{
 "cells": [
  {
   "cell_type": "code",
   "execution_count": 1,
   "id": "7d170430-bd91-4156-872e-09b77f4fcf63",
   "metadata": {},
   "outputs": [],
   "source": [
    "import numpy as np\n",
    "import pandas as pd\n",
    "import requests\n",
    "import datetime\n",
    "import calendar\n",
    "import scipy.stats as stats\n",
    "import matplotlib.pyplot as plt\n"
   ]
  },
  {
   "cell_type": "code",
   "execution_count": 2,
   "id": "b8f42659-d890-4c01-a580-a87be33f1c42",
   "metadata": {},
   "outputs": [],
   "source": [
    "import os\n",
    "from eod import EodHistoricalData"
   ]
  },
  {
   "cell_type": "code",
   "execution_count": 3,
   "id": "d95544fa-dbf1-4b80-91f3-222428566b9c",
   "metadata": {},
   "outputs": [],
   "source": [
    "# Load the key from the environment variables\n",
    "api_key = os.environ.get('63ef81c909b516.05540383')\n",
    "\n",
    "# Create the client instance\n",
    "client = EodHistoricalData(api_key)"
   ]
  },
  {
   "cell_type": "code",
   "execution_count": 4,
   "id": "9c6602bc-7ec9-4e94-8d79-ed1e29b7c1f1",
   "metadata": {},
   "outputs": [],
   "source": [
    "from eod import EodHistoricalData\n",
    "# create the instance of the SDK\n",
    "api_key = '63ef81c909b516.05540383'\n",
    "client = EodHistoricalData(api_key)"
   ]
  },
  {
   "cell_type": "code",
   "execution_count": null,
   "id": "6f05e885-5cee-4de9-821a-f6ad14977ad9",
   "metadata": {},
   "outputs": [],
   "source": [
    "resp = client.get_prices_intraday('EUR.FOREX', interval='1m', from_='1620136800', to='1620414000')"
   ]
  },
  {
   "cell_type": "code",
   "execution_count": 16,
   "id": "d0e0ec43-8a27-45b9-b388-e9f3c922b5c8",
   "metadata": {},
   "outputs": [
    {
     "name": "stdout",
     "output_type": "stream",
     "text": [
      "                      timestamp    open    high     low   close  volume\n",
      "datetime                                                               \n",
      "2020-01-01 00:03:00  1577836980  157.89  157.89  157.89  157.89     280\n",
      "2020-01-01 00:08:00  1577837280  157.89  157.89  157.89  157.89     226\n",
      "2020-01-01 00:12:00  1577837520  157.85  157.85  157.85  157.85    1057\n",
      "2020-01-01 00:25:00  1577838300  157.89  157.89  157.89  157.89     673\n",
      "2020-01-01 00:27:00  1577838420  157.85  157.85  157.83  157.83    1276\n"
     ]
    }
   ],
   "source": [
    "import pandas as pd\n",
    "\n",
    "data = [{'timestamp': r['timestamp'],\n",
    "         'datetime': r['datetime'],\n",
    "         'open': r['open'],\n",
    "         'high': r['high'],\n",
    "         'low': r['low'],\n",
    "         'close': r['close'],\n",
    "         'volume': r['volume']} for r in resp]\n",
    "\n",
    "df = pd.DataFrame(data)\n",
    "\n",
    "# set the datetime column as the index\n",
    "df.set_index('datetime', inplace=True)\n",
    "\n",
    "print(df.head())"
   ]
  },
  {
   "cell_type": "code",
   "execution_count": 15,
   "id": "99f82aa8-df69-4e88-9f1b-77c8f0652fec",
   "metadata": {},
   "outputs": [],
   "source": [
    "resp = client.get_prices_intraday('MSFT.US', interval='1m', from_='1577836800', to='1583020800')"
   ]
  },
  {
   "cell_type": "code",
   "execution_count": 17,
   "id": "848dcc1a-69ad-4b9c-b8c4-5485a9f6c3f8",
   "metadata": {},
   "outputs": [
    {
     "data": {
      "text/html": [
       "<div>\n",
       "<style scoped>\n",
       "    .dataframe tbody tr th:only-of-type {\n",
       "        vertical-align: middle;\n",
       "    }\n",
       "\n",
       "    .dataframe tbody tr th {\n",
       "        vertical-align: top;\n",
       "    }\n",
       "\n",
       "    .dataframe thead th {\n",
       "        text-align: right;\n",
       "    }\n",
       "</style>\n",
       "<table border=\"1\" class=\"dataframe\">\n",
       "  <thead>\n",
       "    <tr style=\"text-align: right;\">\n",
       "      <th></th>\n",
       "      <th>timestamp</th>\n",
       "      <th>open</th>\n",
       "      <th>high</th>\n",
       "      <th>low</th>\n",
       "      <th>close</th>\n",
       "      <th>volume</th>\n",
       "    </tr>\n",
       "    <tr>\n",
       "      <th>datetime</th>\n",
       "      <th></th>\n",
       "      <th></th>\n",
       "      <th></th>\n",
       "      <th></th>\n",
       "      <th></th>\n",
       "      <th></th>\n",
       "    </tr>\n",
       "  </thead>\n",
       "  <tbody>\n",
       "    <tr>\n",
       "      <th>2020-01-01 00:03:00</th>\n",
       "      <td>1577836980</td>\n",
       "      <td>157.89</td>\n",
       "      <td>157.89</td>\n",
       "      <td>157.89</td>\n",
       "      <td>157.89</td>\n",
       "      <td>280</td>\n",
       "    </tr>\n",
       "    <tr>\n",
       "      <th>2020-01-01 00:08:00</th>\n",
       "      <td>1577837280</td>\n",
       "      <td>157.89</td>\n",
       "      <td>157.89</td>\n",
       "      <td>157.89</td>\n",
       "      <td>157.89</td>\n",
       "      <td>226</td>\n",
       "    </tr>\n",
       "    <tr>\n",
       "      <th>2020-01-01 00:12:00</th>\n",
       "      <td>1577837520</td>\n",
       "      <td>157.85</td>\n",
       "      <td>157.85</td>\n",
       "      <td>157.85</td>\n",
       "      <td>157.85</td>\n",
       "      <td>1057</td>\n",
       "    </tr>\n",
       "    <tr>\n",
       "      <th>2020-01-01 00:25:00</th>\n",
       "      <td>1577838300</td>\n",
       "      <td>157.89</td>\n",
       "      <td>157.89</td>\n",
       "      <td>157.89</td>\n",
       "      <td>157.89</td>\n",
       "      <td>673</td>\n",
       "    </tr>\n",
       "    <tr>\n",
       "      <th>2020-01-01 00:27:00</th>\n",
       "      <td>1577838420</td>\n",
       "      <td>157.85</td>\n",
       "      <td>157.85</td>\n",
       "      <td>157.83</td>\n",
       "      <td>157.83</td>\n",
       "      <td>1276</td>\n",
       "    </tr>\n",
       "    <tr>\n",
       "      <th>...</th>\n",
       "      <td>...</td>\n",
       "      <td>...</td>\n",
       "      <td>...</td>\n",
       "      <td>...</td>\n",
       "      <td>...</td>\n",
       "      <td>...</td>\n",
       "    </tr>\n",
       "    <tr>\n",
       "      <th>2020-02-29 00:55:00</th>\n",
       "      <td>1582937700</td>\n",
       "      <td>163.48</td>\n",
       "      <td>163.65</td>\n",
       "      <td>163.48</td>\n",
       "      <td>163.65</td>\n",
       "      <td>935</td>\n",
       "    </tr>\n",
       "    <tr>\n",
       "      <th>2020-02-29 00:56:00</th>\n",
       "      <td>1582937760</td>\n",
       "      <td>163.67</td>\n",
       "      <td>163.67</td>\n",
       "      <td>163.67</td>\n",
       "      <td>163.67</td>\n",
       "      <td>653</td>\n",
       "    </tr>\n",
       "    <tr>\n",
       "      <th>2020-02-29 00:57:00</th>\n",
       "      <td>1582937820</td>\n",
       "      <td>163.65</td>\n",
       "      <td>163.65</td>\n",
       "      <td>163.65</td>\n",
       "      <td>163.65</td>\n",
       "      <td>536</td>\n",
       "    </tr>\n",
       "    <tr>\n",
       "      <th>2020-02-29 00:58:00</th>\n",
       "      <td>1582937880</td>\n",
       "      <td>163.78</td>\n",
       "      <td>163.85</td>\n",
       "      <td>163.78</td>\n",
       "      <td>163.85</td>\n",
       "      <td>847</td>\n",
       "    </tr>\n",
       "    <tr>\n",
       "      <th>2020-02-29 00:59:00</th>\n",
       "      <td>1582937940</td>\n",
       "      <td>163.60</td>\n",
       "      <td>163.85</td>\n",
       "      <td>163.60</td>\n",
       "      <td>163.85</td>\n",
       "      <td>835</td>\n",
       "    </tr>\n",
       "  </tbody>\n",
       "</table>\n",
       "<p>27254 rows × 6 columns</p>\n",
       "</div>"
      ],
      "text/plain": [
       "                      timestamp    open    high     low   close  volume\n",
       "datetime                                                               \n",
       "2020-01-01 00:03:00  1577836980  157.89  157.89  157.89  157.89     280\n",
       "2020-01-01 00:08:00  1577837280  157.89  157.89  157.89  157.89     226\n",
       "2020-01-01 00:12:00  1577837520  157.85  157.85  157.85  157.85    1057\n",
       "2020-01-01 00:25:00  1577838300  157.89  157.89  157.89  157.89     673\n",
       "2020-01-01 00:27:00  1577838420  157.85  157.85  157.83  157.83    1276\n",
       "...                         ...     ...     ...     ...     ...     ...\n",
       "2020-02-29 00:55:00  1582937700  163.48  163.65  163.48  163.65     935\n",
       "2020-02-29 00:56:00  1582937760  163.67  163.67  163.67  163.67     653\n",
       "2020-02-29 00:57:00  1582937820  163.65  163.65  163.65  163.65     536\n",
       "2020-02-29 00:58:00  1582937880  163.78  163.85  163.78  163.85     847\n",
       "2020-02-29 00:59:00  1582937940  163.60  163.85  163.60  163.85     835\n",
       "\n",
       "[27254 rows x 6 columns]"
      ]
     },
     "execution_count": 17,
     "metadata": {},
     "output_type": "execute_result"
    }
   ],
   "source": [
    "df"
   ]
  },
  {
   "cell_type": "code",
   "execution_count": null,
   "id": "ab17e7cf-ca42-40d8-889e-e2c70a623cd8",
   "metadata": {},
   "outputs": [],
   "source": [
    "#All intraday data as csv files \n",
    "#Check intraday data for completeness \n",
    "#Summarize ftx data per minute -> round if necessary -> 00:02:20 is 00:03:00\n",
    "#Price Quality "
   ]
  },
  {
   "cell_type": "code",
   "execution_count": 19,
   "id": "3684e4d0-ae6b-4315-b3f7-11aa9fb5c978",
   "metadata": {},
   "outputs": [],
   "source": [
    "import pandas as pd\n",
    "from datetime import datetime, timedelta\n",
    "\n",
    "# specify the start and end date for the data\n",
    "start_date = datetime(2020, 1, 1, 0, 1)\n",
    "end_date = datetime(2022, 12, 31, 23, 59)\n",
    "\n",
    "# specify the interval for the data\n",
    "interval = '1m'\n",
    "\n",
    "# initialize an empty list to store the data\n",
    "data = []\n",
    "\n",
    "# define a function to fetch data in chunks\n",
    "def fetch_data(from_date, to_date):\n",
    "    while from_date < end_date:\n",
    "        # get the 'to' date by adding 120 days to the 'from' date\n",
    "        to_date = from_date + timedelta(days=120)\n",
    "\n",
    "        # convert the 'from' and 'to' dates to the required format for the API call\n",
    "        from_str = str(int(from_date.timestamp()))\n",
    "        to_str = str(int(to_date.timestamp()))\n",
    "\n",
    "        # make the API call\n",
    "        try:\n",
    "            resp = client.get_prices_intraday('MSFT.US', interval=interval, from_=from_str, to=to_str)\n",
    "        except V20Error as e:\n",
    "            print(f\"Error: {e}\")\n",
    "            break\n",
    "\n",
    "        # convert the response data to a list of dictionaries\n",
    "        data.extend([{'datetime': r['datetime'], 'open': r['open'], 'high': r['high'], 'low': r['low'], 'close': r['close'], 'volume': r['volume']} for r in resp])\n",
    "\n",
    "        # set the 'from' date for the next iteration to be 1 second after the 'to' date of the current iteration\n",
    "        from_date = to_date + timedelta(seconds=1)\n",
    "\n",
    "# fetch the data in chunks and store in the list 'data'\n",
    "fetch_data(start_date, start_date)\n",
    "\n",
    "# convert the list of dictionaries to a dataframe\n",
    "df = pd.DataFrame(data)\n",
    "\n",
    "# set the datetime column as the index\n",
    "df.set_index('datetime', inplace=True)\n",
    "\n",
    "# save the dataframe to a CSV file\n",
    "df.to_csv('msft_data.csv')\n"
   ]
  },
  {
   "cell_type": "code",
   "execution_count": 20,
   "id": "066f3e71-61a1-4b22-bcd8-5bae90ec0620",
   "metadata": {},
   "outputs": [
    {
     "data": {
      "text/html": [
       "<div>\n",
       "<style scoped>\n",
       "    .dataframe tbody tr th:only-of-type {\n",
       "        vertical-align: middle;\n",
       "    }\n",
       "\n",
       "    .dataframe tbody tr th {\n",
       "        vertical-align: top;\n",
       "    }\n",
       "\n",
       "    .dataframe thead th {\n",
       "        text-align: right;\n",
       "    }\n",
       "</style>\n",
       "<table border=\"1\" class=\"dataframe\">\n",
       "  <thead>\n",
       "    <tr style=\"text-align: right;\">\n",
       "      <th></th>\n",
       "      <th>open</th>\n",
       "      <th>high</th>\n",
       "      <th>low</th>\n",
       "      <th>close</th>\n",
       "      <th>volume</th>\n",
       "    </tr>\n",
       "    <tr>\n",
       "      <th>datetime</th>\n",
       "      <th></th>\n",
       "      <th></th>\n",
       "      <th></th>\n",
       "      <th></th>\n",
       "      <th></th>\n",
       "    </tr>\n",
       "  </thead>\n",
       "  <tbody>\n",
       "    <tr>\n",
       "      <th>2019-12-31 23:02:00</th>\n",
       "      <td>157.83</td>\n",
       "      <td>157.83</td>\n",
       "      <td>157.83</td>\n",
       "      <td>157.83</td>\n",
       "      <td>300</td>\n",
       "    </tr>\n",
       "    <tr>\n",
       "      <th>2019-12-31 23:16:00</th>\n",
       "      <td>157.82</td>\n",
       "      <td>157.82</td>\n",
       "      <td>157.82</td>\n",
       "      <td>157.82</td>\n",
       "      <td>150</td>\n",
       "    </tr>\n",
       "    <tr>\n",
       "      <th>2019-12-31 23:23:00</th>\n",
       "      <td>157.81</td>\n",
       "      <td>157.81</td>\n",
       "      <td>157.81</td>\n",
       "      <td>157.81</td>\n",
       "      <td>362</td>\n",
       "    </tr>\n",
       "    <tr>\n",
       "      <th>2019-12-31 23:41:00</th>\n",
       "      <td>157.81</td>\n",
       "      <td>157.81</td>\n",
       "      <td>157.81</td>\n",
       "      <td>157.81</td>\n",
       "      <td>1080</td>\n",
       "    </tr>\n",
       "    <tr>\n",
       "      <th>2019-12-31 23:49:00</th>\n",
       "      <td>157.81</td>\n",
       "      <td>157.81</td>\n",
       "      <td>157.81</td>\n",
       "      <td>157.81</td>\n",
       "      <td>265</td>\n",
       "    </tr>\n",
       "    <tr>\n",
       "      <th>...</th>\n",
       "      <td>...</td>\n",
       "      <td>...</td>\n",
       "      <td>...</td>\n",
       "      <td>...</td>\n",
       "      <td>...</td>\n",
       "    </tr>\n",
       "    <tr>\n",
       "      <th>2023-02-25 00:36:00</th>\n",
       "      <td>248.90</td>\n",
       "      <td>248.90</td>\n",
       "      <td>248.90</td>\n",
       "      <td>248.90</td>\n",
       "      <td>299</td>\n",
       "    </tr>\n",
       "    <tr>\n",
       "      <th>2023-02-25 00:39:00</th>\n",
       "      <td>249.17</td>\n",
       "      <td>249.17</td>\n",
       "      <td>249.17</td>\n",
       "      <td>249.17</td>\n",
       "      <td>384</td>\n",
       "    </tr>\n",
       "    <tr>\n",
       "      <th>2023-02-25 00:51:00</th>\n",
       "      <td>248.86</td>\n",
       "      <td>248.86</td>\n",
       "      <td>248.86</td>\n",
       "      <td>248.86</td>\n",
       "      <td>143</td>\n",
       "    </tr>\n",
       "    <tr>\n",
       "      <th>2023-02-25 00:53:00</th>\n",
       "      <td>249.04</td>\n",
       "      <td>249.04</td>\n",
       "      <td>249.04</td>\n",
       "      <td>249.04</td>\n",
       "      <td>479</td>\n",
       "    </tr>\n",
       "    <tr>\n",
       "      <th>2023-02-25 00:54:00</th>\n",
       "      <td>249.08</td>\n",
       "      <td>249.08</td>\n",
       "      <td>249.08</td>\n",
       "      <td>249.08</td>\n",
       "      <td>265</td>\n",
       "    </tr>\n",
       "  </tbody>\n",
       "</table>\n",
       "<p>506168 rows × 5 columns</p>\n",
       "</div>"
      ],
      "text/plain": [
       "                       open    high     low   close  volume\n",
       "datetime                                                   \n",
       "2019-12-31 23:02:00  157.83  157.83  157.83  157.83     300\n",
       "2019-12-31 23:16:00  157.82  157.82  157.82  157.82     150\n",
       "2019-12-31 23:23:00  157.81  157.81  157.81  157.81     362\n",
       "2019-12-31 23:41:00  157.81  157.81  157.81  157.81    1080\n",
       "2019-12-31 23:49:00  157.81  157.81  157.81  157.81     265\n",
       "...                     ...     ...     ...     ...     ...\n",
       "2023-02-25 00:36:00  248.90  248.90  248.90  248.90     299\n",
       "2023-02-25 00:39:00  249.17  249.17  249.17  249.17     384\n",
       "2023-02-25 00:51:00  248.86  248.86  248.86  248.86     143\n",
       "2023-02-25 00:53:00  249.04  249.04  249.04  249.04     479\n",
       "2023-02-25 00:54:00  249.08  249.08  249.08  249.08     265\n",
       "\n",
       "[506168 rows x 5 columns]"
      ]
     },
     "execution_count": 20,
     "metadata": {},
     "output_type": "execute_result"
    }
   ],
   "source": [
    "df"
   ]
  },
  {
   "cell_type": "code",
   "execution_count": 23,
   "id": "a2b93dab-741c-4c9e-a1b0-22399f74d5a1",
   "metadata": {},
   "outputs": [
    {
     "name": "stdout",
     "output_type": "stream",
     "text": [
      "Data saved to MSFT_US_data.csv\n"
     ]
    }
   ],
   "source": [
    "import pandas as pd\n",
    "from datetime import datetime, timedelta\n",
    "\n",
    "# define a function to fetch data in chunks\n",
    "def fetch_data(client, symbol, market, start_date, end_date, interval):\n",
    "    # initialize an empty list to store the data\n",
    "    data = []\n",
    "    from_date = start_date\n",
    "    to_date = from_date + timedelta(days=120)\n",
    "    while from_date < end_date:\n",
    "        # convert the 'from' and 'to' dates to the required format for the API call\n",
    "        from_str = str(int(from_date.timestamp()))\n",
    "        to_str = str(int(to_date.timestamp()))\n",
    "\n",
    "        # make the API call\n",
    "        try:\n",
    "            resp = client.get_prices_intraday(f\"{symbol}.{market}\", interval=interval, from_=from_str, to=to_str)\n",
    "        except V20Error as e:\n",
    "            print(f\"Error: {e}\")\n",
    "            break\n",
    "\n",
    "        # convert the response data to a list of dictionaries\n",
    "        data.extend([{'datetime': r['datetime'], 'open': r['open'], 'high': r['high'], 'low': r['low'], 'close': r['close'], 'volume': r['volume']} for r in resp])\n",
    "\n",
    "        # set the 'from' date for the next iteration to be 1 second after the 'to' date of the current iteration\n",
    "        from_date = to_date + timedelta(seconds=1)\n",
    "        to_date = from_date + timedelta(days=120)\n",
    "\n",
    "    # convert the list of dictionaries to a dataframe\n",
    "    df = pd.DataFrame(data)\n",
    "\n",
    "    # set the datetime column as the index\n",
    "    df.set_index('datetime', inplace=True)\n",
    "\n",
    "    # save the dataframe to a CSV file with a filename that includes the symbol and market\n",
    "    filename = f\"{symbol}_{market}_data.csv\"\n",
    "    df.to_csv(filename)\n",
    "    print(f\"Data saved to {filename}\")\n",
    "\n",
    "# specify the start and end date for the data\n",
    "start_date = datetime(2020, 1, 1, 0, 1)\n",
    "end_date = datetime(2022, 12, 31, 23, 59)\n",
    "\n",
    "# specify the interval for the data\n",
    "interval = '1m'\n",
    "\n",
    "# fetch the data and save to a CSV file\n",
    "fetch_data(client, 'MSFT', 'US', start_date, end_date, interval)\n"
   ]
  },
  {
   "cell_type": "code",
   "execution_count": 24,
   "id": "b60e6afa-f7c8-486d-bc4a-4ac79b1493a3",
   "metadata": {},
   "outputs": [
    {
     "name": "stdout",
     "output_type": "stream",
     "text": [
      "Data saved to AAPL_US_data.csv\n"
     ]
    }
   ],
   "source": [
    "fetch_data(client, 'AAPL', 'US', start_date, end_date, interval)"
   ]
  },
  {
   "cell_type": "code",
   "execution_count": 25,
   "id": "aa62a2d2-f492-4d84-913c-ac1c417a74ae",
   "metadata": {},
   "outputs": [
    {
     "name": "stdout",
     "output_type": "stream",
     "text": [
      "Data saved to ABNB_US_data.csv\n"
     ]
    }
   ],
   "source": [
    "fetch_data(client, 'ABNB', 'US', start_date, end_date, interval)"
   ]
  },
  {
   "cell_type": "code",
   "execution_count": 26,
   "id": "78fed893-9068-42ab-badf-b26f46c0eb00",
   "metadata": {},
   "outputs": [
    {
     "name": "stdout",
     "output_type": "stream",
     "text": [
      "Data saved to ACB_US_data.csv\n"
     ]
    }
   ],
   "source": [
    "fetch_data(client, 'ACB', 'US', start_date, end_date, interval)"
   ]
  },
  {
   "cell_type": "code",
   "execution_count": 27,
   "id": "c43249ce-067a-47c8-ba74-79398ccfe6fe",
   "metadata": {},
   "outputs": [
    {
     "name": "stdout",
     "output_type": "stream",
     "text": [
      "Data saved to AMC_US_data.csv\n"
     ]
    }
   ],
   "source": [
    "fetch_data(client, 'AMC', 'US', start_date, end_date, interval)"
   ]
  },
  {
   "cell_type": "code",
   "execution_count": 28,
   "id": "e78d0095-b501-4c90-a295-8fe354235c1e",
   "metadata": {},
   "outputs": [
    {
     "name": "stdout",
     "output_type": "stream",
     "text": [
      "Data saved to AMZN_US_data.csv\n"
     ]
    }
   ],
   "source": [
    "fetch_data(client, 'AMZN', 'US', start_date, end_date, interval)"
   ]
  },
  {
   "cell_type": "code",
   "execution_count": 29,
   "id": "0637a3e1-5e99-401d-9f3a-60c1f17d6e25",
   "metadata": {},
   "outputs": [
    {
     "name": "stdout",
     "output_type": "stream",
     "text": [
      "Data saved to APHA_US_data.csv\n"
     ]
    }
   ],
   "source": [
    "fetch_data(client, 'APHA', 'US', start_date, end_date, interval)"
   ]
  },
  {
   "cell_type": "code",
   "execution_count": 30,
   "id": "2dfe3f0d-6f62-4300-be63-2a2a75ab941c",
   "metadata": {},
   "outputs": [
    {
     "name": "stdout",
     "output_type": "stream",
     "text": [
      "Data saved to ARKK_US_data.csv\n"
     ]
    }
   ],
   "source": [
    "fetch_data(client, 'ARKK', 'US', start_date, end_date, interval)"
   ]
  },
  {
   "cell_type": "code",
   "execution_count": 31,
   "id": "3ce40925-8aaa-4ffe-9b2c-1b1c69121cd4",
   "metadata": {},
   "outputs": [
    {
     "name": "stdout",
     "output_type": "stream",
     "text": [
      "Data saved to BABA_US_data.csv\n"
     ]
    }
   ],
   "source": [
    "fetch_data(client, 'BABA', 'US', start_date, end_date, interval)"
   ]
  },
  {
   "cell_type": "code",
   "execution_count": 32,
   "id": "e65925b7-1b60-4bca-b3bb-868e11881471",
   "metadata": {},
   "outputs": [
    {
     "name": "stdout",
     "output_type": "stream",
     "text": [
      "Data saved to BB_US_data.csv\n"
     ]
    }
   ],
   "source": [
    "fetch_data(client, 'BB', 'US', start_date, end_date, interval)"
   ]
  },
  {
   "cell_type": "code",
   "execution_count": 33,
   "id": "d100f0ae-79c4-443b-8f7b-6f5adefebe44",
   "metadata": {},
   "outputs": [
    {
     "name": "stdout",
     "output_type": "stream",
     "text": [
      "Data saved to BILI_US_data.csv\n"
     ]
    }
   ],
   "source": [
    "fetch_data(client, 'BILI', 'US', start_date, end_date, interval)"
   ]
  },
  {
   "cell_type": "code",
   "execution_count": 34,
   "id": "69b67b83-5d52-4ca3-87fd-9f48fb17eb17",
   "metadata": {},
   "outputs": [
    {
     "name": "stdout",
     "output_type": "stream",
     "text": [
      "Data saved to BITO_US_data.csv\n"
     ]
    }
   ],
   "source": [
    "fetch_data(client, 'BITO', 'US', start_date, end_date, interval)"
   ]
  },
  {
   "cell_type": "code",
   "execution_count": 36,
   "id": "47c20eb1-ca35-4825-bcba-9e36c0c3767b",
   "metadata": {},
   "outputs": [
    {
     "ename": "KeyError",
     "evalue": "\"None of ['datetime'] are in the columns\"",
     "output_type": "error",
     "traceback": [
      "\u001b[0;31m---------------------------------------------------------------------------\u001b[0m",
      "\u001b[0;31mKeyError\u001b[0m                                  Traceback (most recent call last)",
      "Input \u001b[0;32mIn [36]\u001b[0m, in \u001b[0;36m<cell line: 1>\u001b[0;34m()\u001b[0m\n\u001b[0;32m----> 1\u001b[0m \u001b[43mfetch_data\u001b[49m\u001b[43m(\u001b[49m\u001b[43mclient\u001b[49m\u001b[43m,\u001b[49m\u001b[43m \u001b[49m\u001b[38;5;124;43m'\u001b[39;49m\u001b[38;5;124;43mBITW\u001b[39;49m\u001b[38;5;124;43m'\u001b[39;49m\u001b[43m,\u001b[49m\u001b[43m \u001b[49m\u001b[38;5;124;43m'\u001b[39;49m\u001b[38;5;124;43mUS\u001b[39;49m\u001b[38;5;124;43m'\u001b[39;49m\u001b[43m,\u001b[49m\u001b[43m \u001b[49m\u001b[43mstart_date\u001b[49m\u001b[43m,\u001b[49m\u001b[43m \u001b[49m\u001b[43mend_date\u001b[49m\u001b[43m,\u001b[49m\u001b[43m \u001b[49m\u001b[43minterval\u001b[49m\u001b[43m)\u001b[49m\n",
      "Input \u001b[0;32mIn [23]\u001b[0m, in \u001b[0;36mfetch_data\u001b[0;34m(client, symbol, market, start_date, end_date, interval)\u001b[0m\n\u001b[1;32m     30\u001b[0m df \u001b[38;5;241m=\u001b[39m pd\u001b[38;5;241m.\u001b[39mDataFrame(data)\n\u001b[1;32m     32\u001b[0m \u001b[38;5;66;03m# set the datetime column as the index\u001b[39;00m\n\u001b[0;32m---> 33\u001b[0m \u001b[43mdf\u001b[49m\u001b[38;5;241;43m.\u001b[39;49m\u001b[43mset_index\u001b[49m\u001b[43m(\u001b[49m\u001b[38;5;124;43m'\u001b[39;49m\u001b[38;5;124;43mdatetime\u001b[39;49m\u001b[38;5;124;43m'\u001b[39;49m\u001b[43m,\u001b[49m\u001b[43m \u001b[49m\u001b[43minplace\u001b[49m\u001b[38;5;241;43m=\u001b[39;49m\u001b[38;5;28;43;01mTrue\u001b[39;49;00m\u001b[43m)\u001b[49m\n\u001b[1;32m     35\u001b[0m \u001b[38;5;66;03m# save the dataframe to a CSV file with a filename that includes the symbol and market\u001b[39;00m\n\u001b[1;32m     36\u001b[0m filename \u001b[38;5;241m=\u001b[39m \u001b[38;5;124mf\u001b[39m\u001b[38;5;124m\"\u001b[39m\u001b[38;5;132;01m{\u001b[39;00msymbol\u001b[38;5;132;01m}\u001b[39;00m\u001b[38;5;124m_\u001b[39m\u001b[38;5;132;01m{\u001b[39;00mmarket\u001b[38;5;132;01m}\u001b[39;00m\u001b[38;5;124m_data.csv\u001b[39m\u001b[38;5;124m\"\u001b[39m\n",
      "File \u001b[0;32m~/miniconda3/lib/python3.9/site-packages/pandas/util/_decorators.py:331\u001b[0m, in \u001b[0;36mdeprecate_nonkeyword_arguments.<locals>.decorate.<locals>.wrapper\u001b[0;34m(*args, **kwargs)\u001b[0m\n\u001b[1;32m    325\u001b[0m \u001b[38;5;28;01mif\u001b[39;00m \u001b[38;5;28mlen\u001b[39m(args) \u001b[38;5;241m>\u001b[39m num_allow_args:\n\u001b[1;32m    326\u001b[0m     warnings\u001b[38;5;241m.\u001b[39mwarn(\n\u001b[1;32m    327\u001b[0m         msg\u001b[38;5;241m.\u001b[39mformat(arguments\u001b[38;5;241m=\u001b[39m_format_argument_list(allow_args)),\n\u001b[1;32m    328\u001b[0m         \u001b[38;5;167;01mFutureWarning\u001b[39;00m,\n\u001b[1;32m    329\u001b[0m         stacklevel\u001b[38;5;241m=\u001b[39mfind_stack_level(),\n\u001b[1;32m    330\u001b[0m     )\n\u001b[0;32m--> 331\u001b[0m \u001b[38;5;28;01mreturn\u001b[39;00m \u001b[43mfunc\u001b[49m\u001b[43m(\u001b[49m\u001b[38;5;241;43m*\u001b[39;49m\u001b[43margs\u001b[49m\u001b[43m,\u001b[49m\u001b[43m \u001b[49m\u001b[38;5;241;43m*\u001b[39;49m\u001b[38;5;241;43m*\u001b[39;49m\u001b[43mkwargs\u001b[49m\u001b[43m)\u001b[49m\n",
      "File \u001b[0;32m~/miniconda3/lib/python3.9/site-packages/pandas/core/frame.py:6001\u001b[0m, in \u001b[0;36mDataFrame.set_index\u001b[0;34m(self, keys, drop, append, inplace, verify_integrity)\u001b[0m\n\u001b[1;32m   5998\u001b[0m                 missing\u001b[38;5;241m.\u001b[39mappend(col)\n\u001b[1;32m   6000\u001b[0m \u001b[38;5;28;01mif\u001b[39;00m missing:\n\u001b[0;32m-> 6001\u001b[0m     \u001b[38;5;28;01mraise\u001b[39;00m \u001b[38;5;167;01mKeyError\u001b[39;00m(\u001b[38;5;124mf\u001b[39m\u001b[38;5;124m\"\u001b[39m\u001b[38;5;124mNone of \u001b[39m\u001b[38;5;132;01m{\u001b[39;00mmissing\u001b[38;5;132;01m}\u001b[39;00m\u001b[38;5;124m are in the columns\u001b[39m\u001b[38;5;124m\"\u001b[39m)\n\u001b[1;32m   6003\u001b[0m \u001b[38;5;28;01mif\u001b[39;00m inplace:\n\u001b[1;32m   6004\u001b[0m     frame \u001b[38;5;241m=\u001b[39m \u001b[38;5;28mself\u001b[39m\n",
      "\u001b[0;31mKeyError\u001b[0m: \"None of ['datetime'] are in the columns\""
     ]
    }
   ],
   "source": [
    "fetch_data(client, 'BITW', 'US', start_date, end_date, interval)"
   ]
  },
  {
   "cell_type": "code",
   "execution_count": 37,
   "id": "39d2af36-ba05-44b4-9a44-006c87a0858e",
   "metadata": {},
   "outputs": [
    {
     "name": "stdout",
     "output_type": "stream",
     "text": [
      "Data saved to BNTX_US_data.csv\n"
     ]
    }
   ],
   "source": [
    "fetch_data(client, 'BNTX', 'US', start_date, end_date, interval)"
   ]
  },
  {
   "cell_type": "code",
   "execution_count": 38,
   "id": "a42989bf-c0fb-459b-93f2-eb7841f8cf8d",
   "metadata": {},
   "outputs": [
    {
     "name": "stdout",
     "output_type": "stream",
     "text": [
      "Data saved to BYND_US_data.csv\n"
     ]
    }
   ],
   "source": [
    "fetch_data(client, 'BYND', 'US', start_date, end_date, interval)"
   ]
  },
  {
   "cell_type": "code",
   "execution_count": 40,
   "id": "8c534e49-deeb-4a77-9184-bbe38552f639",
   "metadata": {},
   "outputs": [
    {
     "name": "stdout",
     "output_type": "stream",
     "text": [
      "Data saved to CGC_US_data.csv\n"
     ]
    }
   ],
   "source": [
    "fetch_data(client, 'CGC', 'US', start_date, end_date, interval)"
   ]
  },
  {
   "cell_type": "code",
   "execution_count": 41,
   "id": "0d66ef23-b6a3-4839-8c1c-a4aaf9481fca",
   "metadata": {},
   "outputs": [
    {
     "name": "stdout",
     "output_type": "stream",
     "text": [
      "Data saved to COIN_US_data.csv\n"
     ]
    }
   ],
   "source": [
    "fetch_data(client, 'COIN', 'US', start_date, end_date, interval)"
   ]
  },
  {
   "cell_type": "code",
   "execution_count": 42,
   "id": "d56b5ea1-fc65-4392-bad5-fd84304b475a",
   "metadata": {},
   "outputs": [
    {
     "name": "stdout",
     "output_type": "stream",
     "text": [
      "Data saved to CRON_US_data.csv\n"
     ]
    }
   ],
   "source": [
    "fetch_data(client, 'CRON', 'US', start_date, end_date, interval)"
   ]
  },
  {
   "cell_type": "code",
   "execution_count": 43,
   "id": "471d2c8d-fbaf-4bba-b924-4b1946853a9c",
   "metadata": {},
   "outputs": [
    {
     "name": "stdout",
     "output_type": "stream",
     "text": [
      "Data saved to DKNG_US_data.csv\n"
     ]
    }
   ],
   "source": [
    "fetch_data(client, 'DKNG', 'US', start_date, end_date, interval)"
   ]
  },
  {
   "cell_type": "code",
   "execution_count": 44,
   "id": "c4131d3f-af59-4242-aa66-c1589cdaa7af",
   "metadata": {},
   "outputs": [
    {
     "ename": "KeyError",
     "evalue": "\"None of ['datetime'] are in the columns\"",
     "output_type": "error",
     "traceback": [
      "\u001b[0;31m---------------------------------------------------------------------------\u001b[0m",
      "\u001b[0;31mKeyError\u001b[0m                                  Traceback (most recent call last)",
      "Input \u001b[0;32mIn [44]\u001b[0m, in \u001b[0;36m<cell line: 1>\u001b[0;34m()\u001b[0m\n\u001b[0;32m----> 1\u001b[0m \u001b[43mfetch_data\u001b[49m\u001b[43m(\u001b[49m\u001b[43mclient\u001b[49m\u001b[43m,\u001b[49m\u001b[43m \u001b[49m\u001b[38;5;124;43m'\u001b[39;49m\u001b[38;5;124;43mETHE\u001b[39;49m\u001b[38;5;124;43m'\u001b[39;49m\u001b[43m,\u001b[49m\u001b[43m \u001b[49m\u001b[38;5;124;43m'\u001b[39;49m\u001b[38;5;124;43mUS\u001b[39;49m\u001b[38;5;124;43m'\u001b[39;49m\u001b[43m,\u001b[49m\u001b[43m \u001b[49m\u001b[43mstart_date\u001b[49m\u001b[43m,\u001b[49m\u001b[43m \u001b[49m\u001b[43mend_date\u001b[49m\u001b[43m,\u001b[49m\u001b[43m \u001b[49m\u001b[43minterval\u001b[49m\u001b[43m)\u001b[49m\n",
      "Input \u001b[0;32mIn [23]\u001b[0m, in \u001b[0;36mfetch_data\u001b[0;34m(client, symbol, market, start_date, end_date, interval)\u001b[0m\n\u001b[1;32m     30\u001b[0m df \u001b[38;5;241m=\u001b[39m pd\u001b[38;5;241m.\u001b[39mDataFrame(data)\n\u001b[1;32m     32\u001b[0m \u001b[38;5;66;03m# set the datetime column as the index\u001b[39;00m\n\u001b[0;32m---> 33\u001b[0m \u001b[43mdf\u001b[49m\u001b[38;5;241;43m.\u001b[39;49m\u001b[43mset_index\u001b[49m\u001b[43m(\u001b[49m\u001b[38;5;124;43m'\u001b[39;49m\u001b[38;5;124;43mdatetime\u001b[39;49m\u001b[38;5;124;43m'\u001b[39;49m\u001b[43m,\u001b[49m\u001b[43m \u001b[49m\u001b[43minplace\u001b[49m\u001b[38;5;241;43m=\u001b[39;49m\u001b[38;5;28;43;01mTrue\u001b[39;49;00m\u001b[43m)\u001b[49m\n\u001b[1;32m     35\u001b[0m \u001b[38;5;66;03m# save the dataframe to a CSV file with a filename that includes the symbol and market\u001b[39;00m\n\u001b[1;32m     36\u001b[0m filename \u001b[38;5;241m=\u001b[39m \u001b[38;5;124mf\u001b[39m\u001b[38;5;124m\"\u001b[39m\u001b[38;5;132;01m{\u001b[39;00msymbol\u001b[38;5;132;01m}\u001b[39;00m\u001b[38;5;124m_\u001b[39m\u001b[38;5;132;01m{\u001b[39;00mmarket\u001b[38;5;132;01m}\u001b[39;00m\u001b[38;5;124m_data.csv\u001b[39m\u001b[38;5;124m\"\u001b[39m\n",
      "File \u001b[0;32m~/miniconda3/lib/python3.9/site-packages/pandas/util/_decorators.py:331\u001b[0m, in \u001b[0;36mdeprecate_nonkeyword_arguments.<locals>.decorate.<locals>.wrapper\u001b[0;34m(*args, **kwargs)\u001b[0m\n\u001b[1;32m    325\u001b[0m \u001b[38;5;28;01mif\u001b[39;00m \u001b[38;5;28mlen\u001b[39m(args) \u001b[38;5;241m>\u001b[39m num_allow_args:\n\u001b[1;32m    326\u001b[0m     warnings\u001b[38;5;241m.\u001b[39mwarn(\n\u001b[1;32m    327\u001b[0m         msg\u001b[38;5;241m.\u001b[39mformat(arguments\u001b[38;5;241m=\u001b[39m_format_argument_list(allow_args)),\n\u001b[1;32m    328\u001b[0m         \u001b[38;5;167;01mFutureWarning\u001b[39;00m,\n\u001b[1;32m    329\u001b[0m         stacklevel\u001b[38;5;241m=\u001b[39mfind_stack_level(),\n\u001b[1;32m    330\u001b[0m     )\n\u001b[0;32m--> 331\u001b[0m \u001b[38;5;28;01mreturn\u001b[39;00m \u001b[43mfunc\u001b[49m\u001b[43m(\u001b[49m\u001b[38;5;241;43m*\u001b[39;49m\u001b[43margs\u001b[49m\u001b[43m,\u001b[49m\u001b[43m \u001b[49m\u001b[38;5;241;43m*\u001b[39;49m\u001b[38;5;241;43m*\u001b[39;49m\u001b[43mkwargs\u001b[49m\u001b[43m)\u001b[49m\n",
      "File \u001b[0;32m~/miniconda3/lib/python3.9/site-packages/pandas/core/frame.py:6001\u001b[0m, in \u001b[0;36mDataFrame.set_index\u001b[0;34m(self, keys, drop, append, inplace, verify_integrity)\u001b[0m\n\u001b[1;32m   5998\u001b[0m                 missing\u001b[38;5;241m.\u001b[39mappend(col)\n\u001b[1;32m   6000\u001b[0m \u001b[38;5;28;01mif\u001b[39;00m missing:\n\u001b[0;32m-> 6001\u001b[0m     \u001b[38;5;28;01mraise\u001b[39;00m \u001b[38;5;167;01mKeyError\u001b[39;00m(\u001b[38;5;124mf\u001b[39m\u001b[38;5;124m\"\u001b[39m\u001b[38;5;124mNone of \u001b[39m\u001b[38;5;132;01m{\u001b[39;00mmissing\u001b[38;5;132;01m}\u001b[39;00m\u001b[38;5;124m are in the columns\u001b[39m\u001b[38;5;124m\"\u001b[39m)\n\u001b[1;32m   6003\u001b[0m \u001b[38;5;28;01mif\u001b[39;00m inplace:\n\u001b[1;32m   6004\u001b[0m     frame \u001b[38;5;241m=\u001b[39m \u001b[38;5;28mself\u001b[39m\n",
      "\u001b[0;31mKeyError\u001b[0m: \"None of ['datetime'] are in the columns\""
     ]
    }
   ],
   "source": [
    "fetch_data(client, 'ETHE', 'US', start_date, end_date, interval)"
   ]
  },
  {
   "cell_type": "code",
   "execution_count": 45,
   "id": "3b9c896c-ee04-4ddb-afff-b60db550710a",
   "metadata": {},
   "outputs": [
    {
     "ename": "KeyError",
     "evalue": "\"None of ['datetime'] are in the columns\"",
     "output_type": "error",
     "traceback": [
      "\u001b[0;31m---------------------------------------------------------------------------\u001b[0m",
      "\u001b[0;31mKeyError\u001b[0m                                  Traceback (most recent call last)",
      "Input \u001b[0;32mIn [45]\u001b[0m, in \u001b[0;36m<cell line: 1>\u001b[0;34m()\u001b[0m\n\u001b[0;32m----> 1\u001b[0m \u001b[43mfetch_data\u001b[49m\u001b[43m(\u001b[49m\u001b[43mclient\u001b[49m\u001b[43m,\u001b[49m\u001b[43m \u001b[49m\u001b[38;5;124;43m'\u001b[39;49m\u001b[38;5;124;43mFB\u001b[39;49m\u001b[38;5;124;43m'\u001b[39;49m\u001b[43m,\u001b[49m\u001b[43m \u001b[49m\u001b[38;5;124;43m'\u001b[39;49m\u001b[38;5;124;43mUS\u001b[39;49m\u001b[38;5;124;43m'\u001b[39;49m\u001b[43m,\u001b[49m\u001b[43m \u001b[49m\u001b[43mstart_date\u001b[49m\u001b[43m,\u001b[49m\u001b[43m \u001b[49m\u001b[43mend_date\u001b[49m\u001b[43m,\u001b[49m\u001b[43m \u001b[49m\u001b[43minterval\u001b[49m\u001b[43m)\u001b[49m\n",
      "Input \u001b[0;32mIn [23]\u001b[0m, in \u001b[0;36mfetch_data\u001b[0;34m(client, symbol, market, start_date, end_date, interval)\u001b[0m\n\u001b[1;32m     30\u001b[0m df \u001b[38;5;241m=\u001b[39m pd\u001b[38;5;241m.\u001b[39mDataFrame(data)\n\u001b[1;32m     32\u001b[0m \u001b[38;5;66;03m# set the datetime column as the index\u001b[39;00m\n\u001b[0;32m---> 33\u001b[0m \u001b[43mdf\u001b[49m\u001b[38;5;241;43m.\u001b[39;49m\u001b[43mset_index\u001b[49m\u001b[43m(\u001b[49m\u001b[38;5;124;43m'\u001b[39;49m\u001b[38;5;124;43mdatetime\u001b[39;49m\u001b[38;5;124;43m'\u001b[39;49m\u001b[43m,\u001b[49m\u001b[43m \u001b[49m\u001b[43minplace\u001b[49m\u001b[38;5;241;43m=\u001b[39;49m\u001b[38;5;28;43;01mTrue\u001b[39;49;00m\u001b[43m)\u001b[49m\n\u001b[1;32m     35\u001b[0m \u001b[38;5;66;03m# save the dataframe to a CSV file with a filename that includes the symbol and market\u001b[39;00m\n\u001b[1;32m     36\u001b[0m filename \u001b[38;5;241m=\u001b[39m \u001b[38;5;124mf\u001b[39m\u001b[38;5;124m\"\u001b[39m\u001b[38;5;132;01m{\u001b[39;00msymbol\u001b[38;5;132;01m}\u001b[39;00m\u001b[38;5;124m_\u001b[39m\u001b[38;5;132;01m{\u001b[39;00mmarket\u001b[38;5;132;01m}\u001b[39;00m\u001b[38;5;124m_data.csv\u001b[39m\u001b[38;5;124m\"\u001b[39m\n",
      "File \u001b[0;32m~/miniconda3/lib/python3.9/site-packages/pandas/util/_decorators.py:331\u001b[0m, in \u001b[0;36mdeprecate_nonkeyword_arguments.<locals>.decorate.<locals>.wrapper\u001b[0;34m(*args, **kwargs)\u001b[0m\n\u001b[1;32m    325\u001b[0m \u001b[38;5;28;01mif\u001b[39;00m \u001b[38;5;28mlen\u001b[39m(args) \u001b[38;5;241m>\u001b[39m num_allow_args:\n\u001b[1;32m    326\u001b[0m     warnings\u001b[38;5;241m.\u001b[39mwarn(\n\u001b[1;32m    327\u001b[0m         msg\u001b[38;5;241m.\u001b[39mformat(arguments\u001b[38;5;241m=\u001b[39m_format_argument_list(allow_args)),\n\u001b[1;32m    328\u001b[0m         \u001b[38;5;167;01mFutureWarning\u001b[39;00m,\n\u001b[1;32m    329\u001b[0m         stacklevel\u001b[38;5;241m=\u001b[39mfind_stack_level(),\n\u001b[1;32m    330\u001b[0m     )\n\u001b[0;32m--> 331\u001b[0m \u001b[38;5;28;01mreturn\u001b[39;00m \u001b[43mfunc\u001b[49m\u001b[43m(\u001b[49m\u001b[38;5;241;43m*\u001b[39;49m\u001b[43margs\u001b[49m\u001b[43m,\u001b[49m\u001b[43m \u001b[49m\u001b[38;5;241;43m*\u001b[39;49m\u001b[38;5;241;43m*\u001b[39;49m\u001b[43mkwargs\u001b[49m\u001b[43m)\u001b[49m\n",
      "File \u001b[0;32m~/miniconda3/lib/python3.9/site-packages/pandas/core/frame.py:6001\u001b[0m, in \u001b[0;36mDataFrame.set_index\u001b[0;34m(self, keys, drop, append, inplace, verify_integrity)\u001b[0m\n\u001b[1;32m   5998\u001b[0m                 missing\u001b[38;5;241m.\u001b[39mappend(col)\n\u001b[1;32m   6000\u001b[0m \u001b[38;5;28;01mif\u001b[39;00m missing:\n\u001b[0;32m-> 6001\u001b[0m     \u001b[38;5;28;01mraise\u001b[39;00m \u001b[38;5;167;01mKeyError\u001b[39;00m(\u001b[38;5;124mf\u001b[39m\u001b[38;5;124m\"\u001b[39m\u001b[38;5;124mNone of \u001b[39m\u001b[38;5;132;01m{\u001b[39;00mmissing\u001b[38;5;132;01m}\u001b[39;00m\u001b[38;5;124m are in the columns\u001b[39m\u001b[38;5;124m\"\u001b[39m)\n\u001b[1;32m   6003\u001b[0m \u001b[38;5;28;01mif\u001b[39;00m inplace:\n\u001b[1;32m   6004\u001b[0m     frame \u001b[38;5;241m=\u001b[39m \u001b[38;5;28mself\u001b[39m\n",
      "\u001b[0;31mKeyError\u001b[0m: \"None of ['datetime'] are in the columns\""
     ]
    }
   ],
   "source": [
    "fetch_data(client, 'FB', 'US', start_date, end_date, interval)"
   ]
  },
  {
   "cell_type": "code",
   "execution_count": 46,
   "id": "2e081898-315a-4c3a-889a-d22c9b9820a1",
   "metadata": {},
   "outputs": [
    {
     "ename": "KeyError",
     "evalue": "\"None of ['datetime'] are in the columns\"",
     "output_type": "error",
     "traceback": [
      "\u001b[0;31m---------------------------------------------------------------------------\u001b[0m",
      "\u001b[0;31mKeyError\u001b[0m                                  Traceback (most recent call last)",
      "Input \u001b[0;32mIn [46]\u001b[0m, in \u001b[0;36m<cell line: 1>\u001b[0;34m()\u001b[0m\n\u001b[0;32m----> 1\u001b[0m \u001b[43mfetch_data\u001b[49m\u001b[43m(\u001b[49m\u001b[43mclient\u001b[49m\u001b[43m,\u001b[49m\u001b[43m \u001b[49m\u001b[38;5;124;43m'\u001b[39;49m\u001b[38;5;124;43mGBTC\u001b[39;49m\u001b[38;5;124;43m'\u001b[39;49m\u001b[43m,\u001b[49m\u001b[43m \u001b[49m\u001b[38;5;124;43m'\u001b[39;49m\u001b[38;5;124;43mUS\u001b[39;49m\u001b[38;5;124;43m'\u001b[39;49m\u001b[43m,\u001b[49m\u001b[43m \u001b[49m\u001b[43mstart_date\u001b[49m\u001b[43m,\u001b[49m\u001b[43m \u001b[49m\u001b[43mend_date\u001b[49m\u001b[43m,\u001b[49m\u001b[43m \u001b[49m\u001b[43minterval\u001b[49m\u001b[43m)\u001b[49m\n",
      "Input \u001b[0;32mIn [23]\u001b[0m, in \u001b[0;36mfetch_data\u001b[0;34m(client, symbol, market, start_date, end_date, interval)\u001b[0m\n\u001b[1;32m     30\u001b[0m df \u001b[38;5;241m=\u001b[39m pd\u001b[38;5;241m.\u001b[39mDataFrame(data)\n\u001b[1;32m     32\u001b[0m \u001b[38;5;66;03m# set the datetime column as the index\u001b[39;00m\n\u001b[0;32m---> 33\u001b[0m \u001b[43mdf\u001b[49m\u001b[38;5;241;43m.\u001b[39;49m\u001b[43mset_index\u001b[49m\u001b[43m(\u001b[49m\u001b[38;5;124;43m'\u001b[39;49m\u001b[38;5;124;43mdatetime\u001b[39;49m\u001b[38;5;124;43m'\u001b[39;49m\u001b[43m,\u001b[49m\u001b[43m \u001b[49m\u001b[43minplace\u001b[49m\u001b[38;5;241;43m=\u001b[39;49m\u001b[38;5;28;43;01mTrue\u001b[39;49;00m\u001b[43m)\u001b[49m\n\u001b[1;32m     35\u001b[0m \u001b[38;5;66;03m# save the dataframe to a CSV file with a filename that includes the symbol and market\u001b[39;00m\n\u001b[1;32m     36\u001b[0m filename \u001b[38;5;241m=\u001b[39m \u001b[38;5;124mf\u001b[39m\u001b[38;5;124m\"\u001b[39m\u001b[38;5;132;01m{\u001b[39;00msymbol\u001b[38;5;132;01m}\u001b[39;00m\u001b[38;5;124m_\u001b[39m\u001b[38;5;132;01m{\u001b[39;00mmarket\u001b[38;5;132;01m}\u001b[39;00m\u001b[38;5;124m_data.csv\u001b[39m\u001b[38;5;124m\"\u001b[39m\n",
      "File \u001b[0;32m~/miniconda3/lib/python3.9/site-packages/pandas/util/_decorators.py:331\u001b[0m, in \u001b[0;36mdeprecate_nonkeyword_arguments.<locals>.decorate.<locals>.wrapper\u001b[0;34m(*args, **kwargs)\u001b[0m\n\u001b[1;32m    325\u001b[0m \u001b[38;5;28;01mif\u001b[39;00m \u001b[38;5;28mlen\u001b[39m(args) \u001b[38;5;241m>\u001b[39m num_allow_args:\n\u001b[1;32m    326\u001b[0m     warnings\u001b[38;5;241m.\u001b[39mwarn(\n\u001b[1;32m    327\u001b[0m         msg\u001b[38;5;241m.\u001b[39mformat(arguments\u001b[38;5;241m=\u001b[39m_format_argument_list(allow_args)),\n\u001b[1;32m    328\u001b[0m         \u001b[38;5;167;01mFutureWarning\u001b[39;00m,\n\u001b[1;32m    329\u001b[0m         stacklevel\u001b[38;5;241m=\u001b[39mfind_stack_level(),\n\u001b[1;32m    330\u001b[0m     )\n\u001b[0;32m--> 331\u001b[0m \u001b[38;5;28;01mreturn\u001b[39;00m \u001b[43mfunc\u001b[49m\u001b[43m(\u001b[49m\u001b[38;5;241;43m*\u001b[39;49m\u001b[43margs\u001b[49m\u001b[43m,\u001b[49m\u001b[43m \u001b[49m\u001b[38;5;241;43m*\u001b[39;49m\u001b[38;5;241;43m*\u001b[39;49m\u001b[43mkwargs\u001b[49m\u001b[43m)\u001b[49m\n",
      "File \u001b[0;32m~/miniconda3/lib/python3.9/site-packages/pandas/core/frame.py:6001\u001b[0m, in \u001b[0;36mDataFrame.set_index\u001b[0;34m(self, keys, drop, append, inplace, verify_integrity)\u001b[0m\n\u001b[1;32m   5998\u001b[0m                 missing\u001b[38;5;241m.\u001b[39mappend(col)\n\u001b[1;32m   6000\u001b[0m \u001b[38;5;28;01mif\u001b[39;00m missing:\n\u001b[0;32m-> 6001\u001b[0m     \u001b[38;5;28;01mraise\u001b[39;00m \u001b[38;5;167;01mKeyError\u001b[39;00m(\u001b[38;5;124mf\u001b[39m\u001b[38;5;124m\"\u001b[39m\u001b[38;5;124mNone of \u001b[39m\u001b[38;5;132;01m{\u001b[39;00mmissing\u001b[38;5;132;01m}\u001b[39;00m\u001b[38;5;124m are in the columns\u001b[39m\u001b[38;5;124m\"\u001b[39m)\n\u001b[1;32m   6003\u001b[0m \u001b[38;5;28;01mif\u001b[39;00m inplace:\n\u001b[1;32m   6004\u001b[0m     frame \u001b[38;5;241m=\u001b[39m \u001b[38;5;28mself\u001b[39m\n",
      "\u001b[0;31mKeyError\u001b[0m: \"None of ['datetime'] are in the columns\""
     ]
    }
   ],
   "source": [
    "fetch_data(client, 'GBTC', 'US', start_date, end_date, interval)"
   ]
  },
  {
   "cell_type": "code",
   "execution_count": 47,
   "id": "4aa325b3-1521-4b11-aa96-736525324a12",
   "metadata": {},
   "outputs": [
    {
     "name": "stdout",
     "output_type": "stream",
     "text": [
      "Data saved to GDXJ_US_data.csv\n"
     ]
    }
   ],
   "source": [
    "fetch_data(client, 'GDXJ', 'US', start_date, end_date, interval)"
   ]
  },
  {
   "cell_type": "code",
   "execution_count": 48,
   "id": "ec5db931-f694-429c-9410-28d195cc8ca4",
   "metadata": {},
   "outputs": [
    {
     "name": "stdout",
     "output_type": "stream",
     "text": [
      "Data saved to GDX_US_data.csv\n"
     ]
    }
   ],
   "source": [
    "fetch_data(client, 'GDX', 'US', start_date, end_date, interval)"
   ]
  },
  {
   "cell_type": "code",
   "execution_count": 49,
   "id": "e4a77a2b-52b1-46fa-9d69-5c74511dee1e",
   "metadata": {},
   "outputs": [
    {
     "name": "stdout",
     "output_type": "stream",
     "text": [
      "Data saved to GLD_US_data.csv\n"
     ]
    }
   ],
   "source": [
    "fetch_data(client, 'GLD', 'US', start_date, end_date, interval)"
   ]
  },
  {
   "cell_type": "code",
   "execution_count": 50,
   "id": "d7828efc-d228-48cd-9765-41850da96d56",
   "metadata": {},
   "outputs": [
    {
     "ename": "KeyError",
     "evalue": "\"None of ['datetime'] are in the columns\"",
     "output_type": "error",
     "traceback": [
      "\u001b[0;31m---------------------------------------------------------------------------\u001b[0m",
      "\u001b[0;31mKeyError\u001b[0m                                  Traceback (most recent call last)",
      "Input \u001b[0;32mIn [50]\u001b[0m, in \u001b[0;36m<cell line: 1>\u001b[0;34m()\u001b[0m\n\u001b[0;32m----> 1\u001b[0m \u001b[43mfetch_data\u001b[49m\u001b[43m(\u001b[49m\u001b[43mclient\u001b[49m\u001b[43m,\u001b[49m\u001b[43m \u001b[49m\u001b[38;5;124;43m'\u001b[39;49m\u001b[38;5;124;43mGLXY\u001b[39;49m\u001b[38;5;124;43m'\u001b[39;49m\u001b[43m,\u001b[49m\u001b[43m \u001b[49m\u001b[38;5;124;43m'\u001b[39;49m\u001b[38;5;124;43mUS\u001b[39;49m\u001b[38;5;124;43m'\u001b[39;49m\u001b[43m,\u001b[49m\u001b[43m \u001b[49m\u001b[43mstart_date\u001b[49m\u001b[43m,\u001b[49m\u001b[43m \u001b[49m\u001b[43mend_date\u001b[49m\u001b[43m,\u001b[49m\u001b[43m \u001b[49m\u001b[43minterval\u001b[49m\u001b[43m)\u001b[49m\n",
      "Input \u001b[0;32mIn [23]\u001b[0m, in \u001b[0;36mfetch_data\u001b[0;34m(client, symbol, market, start_date, end_date, interval)\u001b[0m\n\u001b[1;32m     30\u001b[0m df \u001b[38;5;241m=\u001b[39m pd\u001b[38;5;241m.\u001b[39mDataFrame(data)\n\u001b[1;32m     32\u001b[0m \u001b[38;5;66;03m# set the datetime column as the index\u001b[39;00m\n\u001b[0;32m---> 33\u001b[0m \u001b[43mdf\u001b[49m\u001b[38;5;241;43m.\u001b[39;49m\u001b[43mset_index\u001b[49m\u001b[43m(\u001b[49m\u001b[38;5;124;43m'\u001b[39;49m\u001b[38;5;124;43mdatetime\u001b[39;49m\u001b[38;5;124;43m'\u001b[39;49m\u001b[43m,\u001b[49m\u001b[43m \u001b[49m\u001b[43minplace\u001b[49m\u001b[38;5;241;43m=\u001b[39;49m\u001b[38;5;28;43;01mTrue\u001b[39;49;00m\u001b[43m)\u001b[49m\n\u001b[1;32m     35\u001b[0m \u001b[38;5;66;03m# save the dataframe to a CSV file with a filename that includes the symbol and market\u001b[39;00m\n\u001b[1;32m     36\u001b[0m filename \u001b[38;5;241m=\u001b[39m \u001b[38;5;124mf\u001b[39m\u001b[38;5;124m\"\u001b[39m\u001b[38;5;132;01m{\u001b[39;00msymbol\u001b[38;5;132;01m}\u001b[39;00m\u001b[38;5;124m_\u001b[39m\u001b[38;5;132;01m{\u001b[39;00mmarket\u001b[38;5;132;01m}\u001b[39;00m\u001b[38;5;124m_data.csv\u001b[39m\u001b[38;5;124m\"\u001b[39m\n",
      "File \u001b[0;32m~/miniconda3/lib/python3.9/site-packages/pandas/util/_decorators.py:331\u001b[0m, in \u001b[0;36mdeprecate_nonkeyword_arguments.<locals>.decorate.<locals>.wrapper\u001b[0;34m(*args, **kwargs)\u001b[0m\n\u001b[1;32m    325\u001b[0m \u001b[38;5;28;01mif\u001b[39;00m \u001b[38;5;28mlen\u001b[39m(args) \u001b[38;5;241m>\u001b[39m num_allow_args:\n\u001b[1;32m    326\u001b[0m     warnings\u001b[38;5;241m.\u001b[39mwarn(\n\u001b[1;32m    327\u001b[0m         msg\u001b[38;5;241m.\u001b[39mformat(arguments\u001b[38;5;241m=\u001b[39m_format_argument_list(allow_args)),\n\u001b[1;32m    328\u001b[0m         \u001b[38;5;167;01mFutureWarning\u001b[39;00m,\n\u001b[1;32m    329\u001b[0m         stacklevel\u001b[38;5;241m=\u001b[39mfind_stack_level(),\n\u001b[1;32m    330\u001b[0m     )\n\u001b[0;32m--> 331\u001b[0m \u001b[38;5;28;01mreturn\u001b[39;00m \u001b[43mfunc\u001b[49m\u001b[43m(\u001b[49m\u001b[38;5;241;43m*\u001b[39;49m\u001b[43margs\u001b[49m\u001b[43m,\u001b[49m\u001b[43m \u001b[49m\u001b[38;5;241;43m*\u001b[39;49m\u001b[38;5;241;43m*\u001b[39;49m\u001b[43mkwargs\u001b[49m\u001b[43m)\u001b[49m\n",
      "File \u001b[0;32m~/miniconda3/lib/python3.9/site-packages/pandas/core/frame.py:6001\u001b[0m, in \u001b[0;36mDataFrame.set_index\u001b[0;34m(self, keys, drop, append, inplace, verify_integrity)\u001b[0m\n\u001b[1;32m   5998\u001b[0m                 missing\u001b[38;5;241m.\u001b[39mappend(col)\n\u001b[1;32m   6000\u001b[0m \u001b[38;5;28;01mif\u001b[39;00m missing:\n\u001b[0;32m-> 6001\u001b[0m     \u001b[38;5;28;01mraise\u001b[39;00m \u001b[38;5;167;01mKeyError\u001b[39;00m(\u001b[38;5;124mf\u001b[39m\u001b[38;5;124m\"\u001b[39m\u001b[38;5;124mNone of \u001b[39m\u001b[38;5;132;01m{\u001b[39;00mmissing\u001b[38;5;132;01m}\u001b[39;00m\u001b[38;5;124m are in the columns\u001b[39m\u001b[38;5;124m\"\u001b[39m)\n\u001b[1;32m   6003\u001b[0m \u001b[38;5;28;01mif\u001b[39;00m inplace:\n\u001b[1;32m   6004\u001b[0m     frame \u001b[38;5;241m=\u001b[39m \u001b[38;5;28mself\u001b[39m\n",
      "\u001b[0;31mKeyError\u001b[0m: \"None of ['datetime'] are in the columns\""
     ]
    }
   ],
   "source": [
    "fetch_data(client, 'GLXY', 'US', start_date, end_date, interval)"
   ]
  },
  {
   "cell_type": "code",
   "execution_count": 51,
   "id": "7de3dc08-682a-45c6-81f1-e6c95327ffbe",
   "metadata": {},
   "outputs": [
    {
     "name": "stdout",
     "output_type": "stream",
     "text": [
      "Data saved to GME_US_data.csv\n"
     ]
    }
   ],
   "source": [
    "fetch_data(client, 'GME', 'US', start_date, end_date, interval)"
   ]
  },
  {
   "cell_type": "code",
   "execution_count": 52,
   "id": "5b4bc500-4ad9-4401-a775-d5afeb268c99",
   "metadata": {},
   "outputs": [
    {
     "name": "stdout",
     "output_type": "stream",
     "text": [
      "Data saved to GOOGL_US_data.csv\n"
     ]
    }
   ],
   "source": [
    "fetch_data(client, 'GOOGL', 'US', start_date, end_date, interval)"
   ]
  },
  {
   "cell_type": "code",
   "execution_count": 53,
   "id": "4da955b8-a971-42a8-9c8b-231da99420c3",
   "metadata": {},
   "outputs": [
    {
     "name": "stdout",
     "output_type": "stream",
     "text": [
      "Data saved to HOOD_US_data.csv\n"
     ]
    }
   ],
   "source": [
    "fetch_data(client, 'HOOD', 'US', start_date, end_date, interval)"
   ]
  },
  {
   "cell_type": "code",
   "execution_count": 54,
   "id": "1482b2e8-cf08-4085-9a1f-004ec608ed97",
   "metadata": {},
   "outputs": [
    {
     "name": "stdout",
     "output_type": "stream",
     "text": [
      "Data saved to MRNA_US_data.csv\n"
     ]
    }
   ],
   "source": [
    "fetch_data(client, 'MRNA', 'US', start_date, end_date, interval)"
   ]
  },
  {
   "cell_type": "code",
   "execution_count": 55,
   "id": "f23ae1a2-a898-45dd-93e2-966aaf90d7a6",
   "metadata": {},
   "outputs": [
    {
     "name": "stdout",
     "output_type": "stream",
     "text": [
      "Data saved to MSTR_US_data.csv\n"
     ]
    }
   ],
   "source": [
    "fetch_data(client, 'MSTR', 'US', start_date, end_date, interval)"
   ]
  },
  {
   "cell_type": "code",
   "execution_count": 39,
   "id": "54ad670b-2c79-4183-b299-0d2bde5c7d56",
   "metadata": {},
   "outputs": [
    {
     "name": "stdout",
     "output_type": "stream",
     "text": [
      "Data saved to NFLX_US_data.csv\n"
     ]
    }
   ],
   "source": [
    "fetch_data(client, 'NFLX', 'US', start_date, end_date, interval)"
   ]
  },
  {
   "cell_type": "code",
   "execution_count": 56,
   "id": "25f0df50-d841-4c1e-acb8-413729f0b1e6",
   "metadata": {},
   "outputs": [
    {
     "name": "stdout",
     "output_type": "stream",
     "text": [
      "Data saved to NIO_US_data.csv\n"
     ]
    }
   ],
   "source": [
    "fetch_data(client, 'NIO', 'US', start_date, end_date, interval)"
   ]
  },
  {
   "cell_type": "code",
   "execution_count": 57,
   "id": "c6cae68a-a8e0-4317-9831-7659c6425036",
   "metadata": {},
   "outputs": [
    {
     "name": "stdout",
     "output_type": "stream",
     "text": [
      "Data saved to NOK_US_data.csv\n"
     ]
    }
   ],
   "source": [
    "fetch_data(client, 'NOK', 'US', start_date, end_date, interval)"
   ]
  },
  {
   "cell_type": "code",
   "execution_count": 58,
   "id": "aa60ca82-0763-426f-9049-f60ed39f7eba",
   "metadata": {},
   "outputs": [
    {
     "name": "stdout",
     "output_type": "stream",
     "text": [
      "Data saved to NVDA_US_data.csv\n"
     ]
    }
   ],
   "source": [
    "fetch_data(client, 'NVDA', 'US', start_date, end_date, interval)"
   ]
  },
  {
   "cell_type": "code",
   "execution_count": 59,
   "id": "cf8dd2ca-812f-4a78-9156-6eaa2db03b12",
   "metadata": {},
   "outputs": [
    {
     "name": "stdout",
     "output_type": "stream",
     "text": [
      "Data saved to PENN_US_data.csv\n"
     ]
    }
   ],
   "source": [
    "fetch_data(client, 'PENN', 'US', start_date, end_date, interval)"
   ]
  },
  {
   "cell_type": "code",
   "execution_count": 60,
   "id": "06e9c420-6065-4422-ae08-4bdb4e4e307e",
   "metadata": {},
   "outputs": [
    {
     "name": "stdout",
     "output_type": "stream",
     "text": [
      "Data saved to PFE_US_data.csv\n"
     ]
    }
   ],
   "source": [
    "fetch_data(client, 'PFE', 'US', start_date, end_date, interval)"
   ]
  },
  {
   "cell_type": "code",
   "execution_count": 61,
   "id": "be9e0478-12f5-4d15-b1dd-e4fb7134f19a",
   "metadata": {},
   "outputs": [
    {
     "name": "stdout",
     "output_type": "stream",
     "text": [
      "Data saved to PYPL_US_data.csv\n"
     ]
    }
   ],
   "source": [
    "fetch_data(client, 'PYPL', 'US', start_date, end_date, interval)"
   ]
  },
  {
   "cell_type": "code",
   "execution_count": 62,
   "id": "f1cb7697-d515-4cad-9dd0-916fa35754a1",
   "metadata": {},
   "outputs": [
    {
     "name": "stdout",
     "output_type": "stream",
     "text": [
      "Data saved to SLV_US_data.csv\n"
     ]
    }
   ],
   "source": [
    "fetch_data(client, 'SLV', 'US', start_date, end_date, interval)"
   ]
  },
  {
   "cell_type": "code",
   "execution_count": 63,
   "id": "560d1e6f-e78e-4cea-8667-6a0bbc542f54",
   "metadata": {},
   "outputs": [
    {
     "name": "stdout",
     "output_type": "stream",
     "text": [
      "Data saved to SPY_US_data.csv\n"
     ]
    }
   ],
   "source": [
    "fetch_data(client, 'SPY', 'US', start_date, end_date, interval)"
   ]
  },
  {
   "cell_type": "code",
   "execution_count": 64,
   "id": "77d72e17-1795-4a80-a036-5568a0d1dc99",
   "metadata": {},
   "outputs": [
    {
     "name": "stdout",
     "output_type": "stream",
     "text": [
      "Data saved to SQ_US_data.csv\n"
     ]
    }
   ],
   "source": [
    "fetch_data(client, 'SQ', 'US', start_date, end_date, interval)"
   ]
  },
  {
   "cell_type": "code",
   "execution_count": 65,
   "id": "a92457f2-21b9-4cb6-bfa1-5132cdf3beba",
   "metadata": {},
   "outputs": [
    {
     "name": "stdout",
     "output_type": "stream",
     "text": [
      "Data saved to TLRY_US_data.csv\n"
     ]
    }
   ],
   "source": [
    "fetch_data(client, 'TLRY', 'US', start_date, end_date, interval)"
   ]
  },
  {
   "cell_type": "code",
   "execution_count": 66,
   "id": "f6773285-a1f9-4770-939f-f5e691bf86af",
   "metadata": {},
   "outputs": [
    {
     "name": "stdout",
     "output_type": "stream",
     "text": [
      "Data saved to TSLA_US_data.csv\n"
     ]
    }
   ],
   "source": [
    "fetch_data(client, 'TSLA', 'US', start_date, end_date, interval)"
   ]
  },
  {
   "cell_type": "code",
   "execution_count": 67,
   "id": "e6c56d52-a6dd-45e4-89b1-2b5019b2f8d7",
   "metadata": {},
   "outputs": [
    {
     "name": "stdout",
     "output_type": "stream",
     "text": [
      "Data saved to TWTR_US_data.csv\n"
     ]
    }
   ],
   "source": [
    "fetch_data(client, 'TWTR', 'US', start_date, end_date, interval)"
   ]
  },
  {
   "cell_type": "code",
   "execution_count": 68,
   "id": "299758ea-b54d-4636-98ad-114ab2f2d137",
   "metadata": {},
   "outputs": [
    {
     "name": "stdout",
     "output_type": "stream",
     "text": [
      "Data saved to UBER_US_data.csv\n"
     ]
    }
   ],
   "source": [
    "fetch_data(client, 'UBER', 'US', start_date, end_date, interval)"
   ]
  },
  {
   "cell_type": "code",
   "execution_count": 69,
   "id": "5ea25e61-c095-4042-b8ed-f2018337a3bb",
   "metadata": {},
   "outputs": [
    {
     "name": "stdout",
     "output_type": "stream",
     "text": [
      "Data saved to USO_US_data.csv\n"
     ]
    }
   ],
   "source": [
    "fetch_data(client, 'USO', 'US', start_date, end_date, interval)"
   ]
  },
  {
   "cell_type": "code",
   "execution_count": 70,
   "id": "c82c67ec-5a29-4e68-a87f-2749fbcdbd2d",
   "metadata": {},
   "outputs": [
    {
     "ename": "NameError",
     "evalue": "name 'V20Error' is not defined",
     "output_type": "error",
     "traceback": [
      "\u001b[0;31m---------------------------------------------------------------------------\u001b[0m",
      "\u001b[0;31mHTTPError\u001b[0m                                 Traceback (most recent call last)",
      "Input \u001b[0;32mIn [23]\u001b[0m, in \u001b[0;36mfetch_data\u001b[0;34m(client, symbol, market, start_date, end_date, interval)\u001b[0m\n\u001b[1;32m     16\u001b[0m \u001b[38;5;28;01mtry\u001b[39;00m:\n\u001b[0;32m---> 17\u001b[0m     resp \u001b[38;5;241m=\u001b[39m \u001b[43mclient\u001b[49m\u001b[38;5;241;43m.\u001b[39;49m\u001b[43mget_prices_intraday\u001b[49m\u001b[43m(\u001b[49m\u001b[38;5;124;43mf\u001b[39;49m\u001b[38;5;124;43m\"\u001b[39;49m\u001b[38;5;132;43;01m{\u001b[39;49;00m\u001b[43msymbol\u001b[49m\u001b[38;5;132;43;01m}\u001b[39;49;00m\u001b[38;5;124;43m.\u001b[39;49m\u001b[38;5;132;43;01m{\u001b[39;49;00m\u001b[43mmarket\u001b[49m\u001b[38;5;132;43;01m}\u001b[39;49;00m\u001b[38;5;124;43m\"\u001b[39;49m\u001b[43m,\u001b[49m\u001b[43m \u001b[49m\u001b[43minterval\u001b[49m\u001b[38;5;241;43m=\u001b[39;49m\u001b[43minterval\u001b[49m\u001b[43m,\u001b[49m\u001b[43m \u001b[49m\u001b[43mfrom_\u001b[49m\u001b[38;5;241;43m=\u001b[39;49m\u001b[43mfrom_str\u001b[49m\u001b[43m,\u001b[49m\u001b[43m \u001b[49m\u001b[43mto\u001b[49m\u001b[38;5;241;43m=\u001b[39;49m\u001b[43mto_str\u001b[49m\u001b[43m)\u001b[49m\n\u001b[1;32m     18\u001b[0m \u001b[38;5;28;01mexcept\u001b[39;00m V20Error \u001b[38;5;28;01mas\u001b[39;00m e:\n",
      "File \u001b[0;32m~/miniconda3/lib/python3.9/site-packages/eod/historical_prices/intraday_hist_api/intraday_data.py:33\u001b[0m, in \u001b[0;36mIntradayStockData.get_prices_intraday\u001b[0;34m(self, symbol, **query_params)\u001b[0m\n\u001b[1;32m     32\u001b[0m \u001b[38;5;28mself\u001b[39m\u001b[38;5;241m.\u001b[39mendpoint \u001b[38;5;241m=\u001b[39m \u001b[38;5;28mself\u001b[39m\u001b[38;5;241m.\u001b[39mURL_INTRADAY_STOCKS \u001b[38;5;241m+\u001b[39m symbol\u001b[38;5;241m.\u001b[39mupper()\n\u001b[0;32m---> 33\u001b[0m \u001b[38;5;28;01mreturn\u001b[39;00m \u001b[38;5;28;43msuper\u001b[39;49m\u001b[43m(\u001b[49m\u001b[43m)\u001b[49m\u001b[38;5;241;43m.\u001b[39;49m\u001b[43mhandle_request\u001b[49m\u001b[43m(\u001b[49m\u001b[38;5;28;43mself\u001b[39;49m\u001b[38;5;241;43m.\u001b[39;49m\u001b[43mendpoint\u001b[49m\u001b[43m,\u001b[49m\u001b[43m \u001b[49m\u001b[43mquery_params\u001b[49m\u001b[43m)\u001b[49m\n",
      "File \u001b[0;32m~/miniconda3/lib/python3.9/site-packages/eod/request_handler_class/request_handler.py:40\u001b[0m, in \u001b[0;36mRequestHandler.handle_request\u001b[0;34m(self, endpoint_url, query_params)\u001b[0m\n\u001b[1;32m     39\u001b[0m \u001b[38;5;28;01melse\u001b[39;00m:\n\u001b[0;32m---> 40\u001b[0m     \u001b[38;5;28;43mself\u001b[39;49m\u001b[38;5;241;43m.\u001b[39;49m\u001b[43mresp\u001b[49m\u001b[38;5;241;43m.\u001b[39;49m\u001b[43mraise_for_status\u001b[49m\u001b[43m(\u001b[49m\u001b[43m)\u001b[49m\n",
      "File \u001b[0;32m~/miniconda3/lib/python3.9/site-packages/requests/models.py:1021\u001b[0m, in \u001b[0;36mResponse.raise_for_status\u001b[0;34m(self)\u001b[0m\n\u001b[1;32m   1020\u001b[0m \u001b[38;5;28;01mif\u001b[39;00m http_error_msg:\n\u001b[0;32m-> 1021\u001b[0m     \u001b[38;5;28;01mraise\u001b[39;00m HTTPError(http_error_msg, response\u001b[38;5;241m=\u001b[39m\u001b[38;5;28mself\u001b[39m)\n",
      "\u001b[0;31mHTTPError\u001b[0m: 404 Client Error: Not Found for url: https://eodhistoricaldata.com/api/intraday/WNDR.US?interval=1m&to=1588197660&fmt=json&api_token=63ef81c909b516.05540383&from=1577833260",
      "\nDuring handling of the above exception, another exception occurred:\n",
      "\u001b[0;31mNameError\u001b[0m                                 Traceback (most recent call last)",
      "Input \u001b[0;32mIn [70]\u001b[0m, in \u001b[0;36m<cell line: 1>\u001b[0;34m()\u001b[0m\n\u001b[0;32m----> 1\u001b[0m \u001b[43mfetch_data\u001b[49m\u001b[43m(\u001b[49m\u001b[43mclient\u001b[49m\u001b[43m,\u001b[49m\u001b[43m \u001b[49m\u001b[38;5;124;43m'\u001b[39;49m\u001b[38;5;124;43mWNDR\u001b[39;49m\u001b[38;5;124;43m'\u001b[39;49m\u001b[43m,\u001b[49m\u001b[43m \u001b[49m\u001b[38;5;124;43m'\u001b[39;49m\u001b[38;5;124;43mUS\u001b[39;49m\u001b[38;5;124;43m'\u001b[39;49m\u001b[43m,\u001b[49m\u001b[43m \u001b[49m\u001b[43mstart_date\u001b[49m\u001b[43m,\u001b[49m\u001b[43m \u001b[49m\u001b[43mend_date\u001b[49m\u001b[43m,\u001b[49m\u001b[43m \u001b[49m\u001b[43minterval\u001b[49m\u001b[43m)\u001b[49m\n",
      "Input \u001b[0;32mIn [23]\u001b[0m, in \u001b[0;36mfetch_data\u001b[0;34m(client, symbol, market, start_date, end_date, interval)\u001b[0m\n\u001b[1;32m     16\u001b[0m \u001b[38;5;28;01mtry\u001b[39;00m:\n\u001b[1;32m     17\u001b[0m     resp \u001b[38;5;241m=\u001b[39m client\u001b[38;5;241m.\u001b[39mget_prices_intraday(\u001b[38;5;124mf\u001b[39m\u001b[38;5;124m\"\u001b[39m\u001b[38;5;132;01m{\u001b[39;00msymbol\u001b[38;5;132;01m}\u001b[39;00m\u001b[38;5;124m.\u001b[39m\u001b[38;5;132;01m{\u001b[39;00mmarket\u001b[38;5;132;01m}\u001b[39;00m\u001b[38;5;124m\"\u001b[39m, interval\u001b[38;5;241m=\u001b[39minterval, from_\u001b[38;5;241m=\u001b[39mfrom_str, to\u001b[38;5;241m=\u001b[39mto_str)\n\u001b[0;32m---> 18\u001b[0m \u001b[38;5;28;01mexcept\u001b[39;00m \u001b[43mV20Error\u001b[49m \u001b[38;5;28;01mas\u001b[39;00m e:\n\u001b[1;32m     19\u001b[0m     \u001b[38;5;28mprint\u001b[39m(\u001b[38;5;124mf\u001b[39m\u001b[38;5;124m\"\u001b[39m\u001b[38;5;124mError: \u001b[39m\u001b[38;5;132;01m{\u001b[39;00me\u001b[38;5;132;01m}\u001b[39;00m\u001b[38;5;124m\"\u001b[39m)\n\u001b[1;32m     20\u001b[0m     \u001b[38;5;28;01mbreak\u001b[39;00m\n",
      "\u001b[0;31mNameError\u001b[0m: name 'V20Error' is not defined"
     ]
    }
   ],
   "source": [
    "fetch_data(client, 'WNDR', 'US', start_date, end_date, interval)"
   ]
  },
  {
   "cell_type": "code",
   "execution_count": 71,
   "id": "60789175-7a88-4cde-9bca-3032b6a6115b",
   "metadata": {},
   "outputs": [
    {
     "name": "stdout",
     "output_type": "stream",
     "text": [
      "Data saved to ZM_US_data.csv\n"
     ]
    }
   ],
   "source": [
    "fetch_data(client, 'ZM', 'US', start_date, end_date, interval)"
   ]
  },
  {
   "cell_type": "code",
   "execution_count": null,
   "id": "4b121260-9bf9-4e65-a726-893bd48ba4c3",
   "metadata": {},
   "outputs": [],
   "source": []
  }
 ],
 "metadata": {
  "kernelspec": {
   "display_name": "Python 3 (ipykernel)",
   "language": "python",
   "name": "python3"
  },
  "language_info": {
   "codemirror_mode": {
    "name": "ipython",
    "version": 3
   },
   "file_extension": ".py",
   "mimetype": "text/x-python",
   "name": "python",
   "nbconvert_exporter": "python",
   "pygments_lexer": "ipython3",
   "version": "3.9.12"
  }
 },
 "nbformat": 4,
 "nbformat_minor": 5
}
