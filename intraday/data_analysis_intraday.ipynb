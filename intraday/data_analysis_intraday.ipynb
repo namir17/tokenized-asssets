{
 "cells": [
  {
   "cell_type": "code",
   "execution_count": 13,
   "id": "a7d3a9a1-0f07-4884-a586-3c87ad455b16",
   "metadata": {},
   "outputs": [],
   "source": [
    "import pandas as pd\n",
    "\n",
    "def add_average_column_to_dataframe(csv_file):\n",
    "    # Add a new column called \"average\" by calculating the mean of \"open\", \"high\", \"low\", and \"close\" columns for each row\n",
    "    \n",
    "    df = pd.read_csv(csv_file)\n",
    "    df['average'] = (df['open'] + df['high'] + df['low'] + df['close']) / 4\n",
    "\n",
    "    # Return the updated dataframe\n",
    "    return df"
   ]
  },
  {
   "cell_type": "code",
   "execution_count": 14,
   "id": "8861c50d-25dd-48fd-82de-d62a09d57a07",
   "metadata": {},
   "outputs": [],
   "source": [
    "df_AAPL = add_average_column_to_dataframe(\"AAPL_US_data.csv\")"
   ]
  },
  {
   "cell_type": "code",
   "execution_count": 15,
   "id": "55d64464-afa0-43cf-ab7d-f65fb0e968c3",
   "metadata": {},
   "outputs": [
    {
     "data": {
      "text/html": [
       "<div>\n",
       "<style scoped>\n",
       "    .dataframe tbody tr th:only-of-type {\n",
       "        vertical-align: middle;\n",
       "    }\n",
       "\n",
       "    .dataframe tbody tr th {\n",
       "        vertical-align: top;\n",
       "    }\n",
       "\n",
       "    .dataframe thead th {\n",
       "        text-align: right;\n",
       "    }\n",
       "</style>\n",
       "<table border=\"1\" class=\"dataframe\">\n",
       "  <thead>\n",
       "    <tr style=\"text-align: right;\">\n",
       "      <th></th>\n",
       "      <th>datetime</th>\n",
       "      <th>open</th>\n",
       "      <th>high</th>\n",
       "      <th>low</th>\n",
       "      <th>close</th>\n",
       "      <th>volume</th>\n",
       "      <th>average</th>\n",
       "    </tr>\n",
       "  </thead>\n",
       "  <tbody>\n",
       "    <tr>\n",
       "      <th>0</th>\n",
       "      <td>2019-12-31 23:01:00</td>\n",
       "      <td>293.70</td>\n",
       "      <td>293.74</td>\n",
       "      <td>293.70</td>\n",
       "      <td>293.74</td>\n",
       "      <td>1000</td>\n",
       "      <td>293.720</td>\n",
       "    </tr>\n",
       "    <tr>\n",
       "      <th>1</th>\n",
       "      <td>2019-12-31 23:02:00</td>\n",
       "      <td>293.75</td>\n",
       "      <td>293.75</td>\n",
       "      <td>293.74</td>\n",
       "      <td>293.74</td>\n",
       "      <td>2224</td>\n",
       "      <td>293.745</td>\n",
       "    </tr>\n",
       "    <tr>\n",
       "      <th>2</th>\n",
       "      <td>2019-12-31 23:05:00</td>\n",
       "      <td>293.78</td>\n",
       "      <td>293.78</td>\n",
       "      <td>293.78</td>\n",
       "      <td>293.78</td>\n",
       "      <td>215</td>\n",
       "      <td>293.780</td>\n",
       "    </tr>\n",
       "    <tr>\n",
       "      <th>3</th>\n",
       "      <td>2019-12-31 23:06:00</td>\n",
       "      <td>293.75</td>\n",
       "      <td>293.75</td>\n",
       "      <td>293.75</td>\n",
       "      <td>293.75</td>\n",
       "      <td>1000</td>\n",
       "      <td>293.750</td>\n",
       "    </tr>\n",
       "    <tr>\n",
       "      <th>4</th>\n",
       "      <td>2019-12-31 23:09:00</td>\n",
       "      <td>293.75</td>\n",
       "      <td>293.75</td>\n",
       "      <td>293.75</td>\n",
       "      <td>293.75</td>\n",
       "      <td>103</td>\n",
       "      <td>293.750</td>\n",
       "    </tr>\n",
       "  </tbody>\n",
       "</table>\n",
       "</div>"
      ],
      "text/plain": [
       "              datetime    open    high     low   close  volume  average\n",
       "0  2019-12-31 23:01:00  293.70  293.74  293.70  293.74    1000  293.720\n",
       "1  2019-12-31 23:02:00  293.75  293.75  293.74  293.74    2224  293.745\n",
       "2  2019-12-31 23:05:00  293.78  293.78  293.78  293.78     215  293.780\n",
       "3  2019-12-31 23:06:00  293.75  293.75  293.75  293.75    1000  293.750\n",
       "4  2019-12-31 23:09:00  293.75  293.75  293.75  293.75     103  293.750"
      ]
     },
     "execution_count": 15,
     "metadata": {},
     "output_type": "execute_result"
    }
   ],
   "source": [
    "df_AAPL.head()"
   ]
  },
  {
   "cell_type": "code",
   "execution_count": null,
   "id": "7f95f37f-f3ad-41a6-9f3d-db742b0eabbf",
   "metadata": {},
   "outputs": [],
   "source": [
    "df_ABNB = add_average_column_to_dataframe(\"AAPL_US_data.csv\")\n",
    "df_ACB = add_average_column_to_dataframe(\"AAPL_US_data.csv\")\n",
    "df_AMC = add_average_column_to_dataframe(\"AAPL_US_data.csv\")\n",
    "df_AMZN = add_average_column_to_dataframe(\"AAPL_US_data.csv\")\n",
    "df_APHA = add_average_column_to_dataframe(\"AAPL_US_data.csv\")\n",
    "df_ARKK = add_average_column_to_dataframe(\"AAPL_US_data.csv\")\n",
    "df_BABA = add_average_column_to_dataframe(\"AAPL_US_data.csv\")\n",
    "df_BB = add_average_column_to_dataframe(\"AAPL_US_data.csv\")\n",
    "df_BILI = add_average_column_to_dataframe(\"AAPL_US_data.csv\")\n",
    "df_BITO = add_average_column_to_dataframe(\"AAPL_US_data.csv\")\n",
    "df_BNTX = add_average_column_to_dataframe(\"AAPL_US_data.csv\")\n",
    "df_BYND = add_average_column_to_dataframe(\"AAPL_US_data.csv\")\n",
    "df_CGC = add_average_column_to_dataframe(\"AAPL_US_data.csv\")\n",
    "df_COIN = add_average_column_to_dataframe(\"AAPL_US_data.csv\")"
   ]
  },
  {
   "cell_type": "code",
   "execution_count": 12,
   "id": "b5e25e5c-3040-45d5-85ba-7198824ecb7f",
   "metadata": {},
   "outputs": [
    {
     "ename": "NotADirectoryError",
     "evalue": "[Errno 20] Not a directory: 'AAPL_US_data.csv'",
     "output_type": "error",
     "traceback": [
      "\u001b[0;31m---------------------------------------------------------------------------\u001b[0m",
      "\u001b[0;31mNotADirectoryError\u001b[0m                        Traceback (most recent call last)",
      "Input \u001b[0;32mIn [12]\u001b[0m, in \u001b[0;36m<cell line: 20>\u001b[0;34m()\u001b[0m\n\u001b[1;32m     17\u001b[0m folder_path \u001b[38;5;241m=\u001b[39m \u001b[38;5;124m'\u001b[39m\u001b[38;5;124mAAPL_US_data.csv\u001b[39m\u001b[38;5;124m'\u001b[39m\n\u001b[1;32m     19\u001b[0m \u001b[38;5;66;03m# Get a list of all CSV files in the folder\u001b[39;00m\n\u001b[0;32m---> 20\u001b[0m csv_files \u001b[38;5;241m=\u001b[39m [f \u001b[38;5;28;01mfor\u001b[39;00m f \u001b[38;5;129;01min\u001b[39;00m \u001b[43mos\u001b[49m\u001b[38;5;241;43m.\u001b[39;49m\u001b[43mlistdir\u001b[49m\u001b[43m(\u001b[49m\u001b[43mfolder_path\u001b[49m\u001b[43m)\u001b[49m \u001b[38;5;28;01mif\u001b[39;00m f\u001b[38;5;241m.\u001b[39mendswith(\u001b[38;5;124m'\u001b[39m\u001b[38;5;124m.csv\u001b[39m\u001b[38;5;124m'\u001b[39m)]\n\u001b[1;32m     22\u001b[0m \u001b[38;5;66;03m# Iterate through each CSV file, add the average column, and save the updated file\u001b[39;00m\n\u001b[1;32m     23\u001b[0m \u001b[38;5;28;01mfor\u001b[39;00m file \u001b[38;5;129;01min\u001b[39;00m csv_files:\n\u001b[1;32m     24\u001b[0m     \u001b[38;5;66;03m# Create the input and output filenames for each file\u001b[39;00m\n",
      "\u001b[0;31mNotADirectoryError\u001b[0m: [Errno 20] Not a directory: 'AAPL_US_data.csv'"
     ]
    }
   ],
   "source": [
    "import os\n",
    "import pandas as pd\n",
    "\n",
    "def add_average_column_to_csv(input_filename, output_filename):\n",
    "    # Read in the CSV file\n",
    "    df = pd.read_csv(input_filename)\n",
    "\n",
    "    # Add a new column called \"average\" by calculating the mean of \"open\", \"high\", \"low\", and \"close\" columns for each row\n",
    "    df['average'] = (df['open'] + df['high'] + df['low'] + df['close']) / 4\n",
    "\n",
    "    # Save the updated dataframe to a new CSV file with a new name\n",
    "    df.to_csv(output_filename, index=False)\n",
    "\n",
    "    print(f\"The new CSV file {output_filename} has been saved.\")\n",
    "\n",
    "# Set the folder path where your CSV files are stored\n",
    "folder_path = 'AAPL_US_data.csv'\n",
    "\n",
    "# Get a list of all CSV files in the folder\n",
    "csv_files = [f for f in os.listdir(folder_path) if f.endswith('.csv')]\n",
    "\n",
    "# Iterate through each CSV file, add the average column, and save the updated file\n",
    "for file in csv_files:\n",
    "    # Create the input and output filenames for each file\n",
    "    input_filename = os.path.join(folder_path, file)\n",
    "    output_filename = os.path.join(folder_path, file.replace('.csv', '_with_average.csv'))\n",
    "\n",
    "    # Call the function to add the average column to the CSV file\n",
    "    add_average_column_to_csv(input_filename, output_filename)\n"
   ]
  },
  {
   "cell_type": "code",
   "execution_count": null,
   "id": "d8380abb-1b0e-4a7b-9cbe-a1eec700df90",
   "metadata": {},
   "outputs": [],
   "source": []
  }
 ],
 "metadata": {
  "kernelspec": {
   "display_name": "Python 3 (ipykernel)",
   "language": "python",
   "name": "python3"
  },
  "language_info": {
   "codemirror_mode": {
    "name": "ipython",
    "version": 3
   },
   "file_extension": ".py",
   "mimetype": "text/x-python",
   "name": "python",
   "nbconvert_exporter": "python",
   "pygments_lexer": "ipython3",
   "version": "3.9.12"
  }
 },
 "nbformat": 4,
 "nbformat_minor": 5
}
