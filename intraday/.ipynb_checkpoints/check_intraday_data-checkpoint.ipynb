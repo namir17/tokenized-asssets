{
 "cells": [
  {
   "cell_type": "code",
   "execution_count": 5,
   "id": "7b2eb8b9-1075-482d-95d8-43374e5a4a07",
   "metadata": {},
   "outputs": [
    {
     "ename": "SyntaxError",
     "evalue": "invalid syntax (3929653753.py, line 14)",
     "output_type": "error",
     "traceback": [
      "\u001b[0;36m  Input \u001b[0;32mIn [5]\u001b[0;36m\u001b[0m\n\u001b[0;31m    def check_completeness(\"tokenized_assets/intraday/AAPL_US_data.csv\"):\u001b[0m\n\u001b[0m                           ^\u001b[0m\n\u001b[0;31mSyntaxError\u001b[0m\u001b[0;31m:\u001b[0m invalid syntax\n"
     ]
    }
   ],
   "source": [
    "import pandas as pd\n",
    "import glob\n",
    "\n",
    "# set the start and end date\n",
    "start_date = pd.Timestamp('2020-01-01 00:01:00')\n",
    "end_date = pd.Timestamp('2022-12-31 23:59:00')\n",
    "\n",
    "# loop through all the CSV files in the current directory\n",
    "for filename in glob.glob('*.csv'):\n",
    "    # read in the CSV file and set the datetime column as the index\n",
    "    df = pd.read_csv(filename, index_col='datetime', parse_dates=True)\n",
    "\n",
    "    # filter the dataframe to only include rows within the specified date range\n",
    "    df = df.loc[(df.index >= start_date) & (df.index <= end_date)]\n",
    "\n",
    "    # create a DatetimeIndex with all the expected dates at a 1 minute frequency\n",
    "    expected_dates = pd.date_range(start=start_date, end=end_date, freq='1min')\n",
    "\n",
    "    # check if there are any missing dates\n",
    "    missing_dates = expected_dates.difference(df.index)\n",
    "\n",
    "    # print the number of missing dates and the filename\n",
    "    print(f\"{filename}: {len(missing_dates)} missing dates\")\n",
    "\n",
    "    # plot the missing dates\n",
    "    if len(missing_dates) > 0:\n",
    "        ax = missing_dates.to_series().diff().dt.seconds.ne(60).cumsum().reset_index(drop=True).value_counts().sort_index().plot(kind='bar')\n",
    "        ax.set_title(f\"Missing Dates in {filename}\")\n",
    "        ax.set_xlabel(\"Missing Date Ranges\")\n",
    "        ax.set_ylabel(\"Missing Date Count\")\n"
   ]
  },
  {
   "cell_type": "code",
   "execution_count": null,
   "id": "d007e251-7755-4c53-91b8-d3ac8995b3e0",
   "metadata": {},
   "outputs": [],
   "source": []
  }
 ],
 "metadata": {
  "kernelspec": {
   "display_name": "Python 3 (ipykernel)",
   "language": "python",
   "name": "python3"
  },
  "language_info": {
   "codemirror_mode": {
    "name": "ipython",
    "version": 3
   },
   "file_extension": ".py",
   "mimetype": "text/x-python",
   "name": "python",
   "nbconvert_exporter": "python",
   "pygments_lexer": "ipython3",
   "version": "3.9.12"
  }
 },
 "nbformat": 4,
 "nbformat_minor": 5
}
