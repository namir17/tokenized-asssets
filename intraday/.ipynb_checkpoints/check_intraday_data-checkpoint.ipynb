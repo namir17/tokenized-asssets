{
 "cells": [
  {
   "cell_type": "code",
   "execution_count": 1,
   "id": "0d2554e3-cb95-4cdd-8145-59b3278ff6bf",
   "metadata": {},
   "outputs": [],
   "source": [
    "import numpy as np"
   ]
  },
  {
   "cell_type": "code",
   "execution_count": 2,
   "id": "7b2eb8b9-1075-482d-95d8-43374e5a4a07",
   "metadata": {},
   "outputs": [],
   "source": [
    "import datetime\n",
    "\n",
    "start = datetime.datetime(2020, 1, 1, 0, 1)\n",
    "end = datetime.datetime(2022, 12, 31, 23, 59)\n",
    "\n",
    "delta = datetime.timedelta(minutes=1)\n",
    "dates_list = []\n",
    "while start <= end:\n",
    "    dates_list.append(start.strftime('%Y-%m-%d %H:%M:%S'))\n",
    "    start += delta"
   ]
  },
  {
   "cell_type": "code",
   "execution_count": null,
   "id": "d007e251-7755-4c53-91b8-d3ac8995b3e0",
   "metadata": {},
   "outputs": [],
   "source": [
    "import pandas as pd\n",
    "\n",
    "def compute_match_percentage(csv_file, dates_list):\n",
    "    df = pd.read_csv(csv_file)\n",
    "    df['datetime'] = pd.to_datetime(df['datetime'])\n",
    "    total_dates = len(dates_list)\n",
    "    matched_dates = df['datetime'].isin(dates_list).sum()\n",
    "    match_percentage = (matched_dates / total_dates) * 100\n",
    "    return match_percentage\n"
   ]
  },
  {
   "cell_type": "code",
   "execution_count": null,
   "id": "1a09f75f-bfd6-4c85-a48f-5934c749154a",
   "metadata": {},
   "outputs": [],
   "source": [
    "percentage = compute_match_percentage(\"intraday/AAPL_US_data.csv\", dates_list)"
   ]
  },
  {
   "cell_type": "code",
   "execution_count": null,
   "id": "689509ef-d665-42ac-bbbd-4d44023368a8",
   "metadata": {},
   "outputs": [],
   "source": [
    "print(percentage)"
   ]
  },
  {
   "cell_type": "code",
   "execution_count": 3,
   "id": "09e5961c-e334-44ac-a643-c98bf2d8e5c2",
   "metadata": {},
   "outputs": [],
   "source": [
    "import datetime\n",
    "import pandas as pd\n",
    "\n",
    "def generate_baseline_dates(start_date, end_date):\n",
    "    interval = datetime.timedelta(minutes=1)\n",
    "    dates = []\n",
    "    current_date = start_date\n",
    "\n",
    "    while current_date <= end_date:\n",
    "        # Check if the current date is a weekday and within trading hours\n",
    "        if current_date.weekday() < 5 and current_date.hour >= 8 and current_date.hour < 22:\n",
    "            dates.append(current_date)\n",
    "        current_date += interval\n",
    "\n",
    "    return dates\n",
    "\n",
    "def calculate_completeness(csv_file=None, df=None):\n",
    "    # Generate the list of baseline dates\n",
    "    start_date = datetime.datetime(2020, 1, 1, 8, 0, 0)\n",
    "    end_date = datetime.datetime(2022, 12, 31, 22, 0, 0)\n",
    "    baseline_dates = generate_baseline_dates(start_date, end_date)\n",
    "\n",
    "    # Calculate the percentage of completeness\n",
    "    if csv_file:\n",
    "        df = pd.read_csv(csv_file)\n",
    "    elif df is None:\n",
    "        raise ValueError(\"Either a CSV file or a DataFrame must be provided.\")\n",
    "    df[\"datetime\"] = pd.to_datetime(df[\"datetime\"])\n",
    "    matching_dates = set(df[\"datetime\"]).intersection(set(baseline_dates))\n",
    "    percentage_complete = round(len(matching_dates) / len(baseline_dates) * 100, 2)\n",
    "    \n",
    "    print(f\"The following data set {csv_file} is {percentage_complete}\")\n"
   ]
  },
  {
   "cell_type": "code",
   "execution_count": 4,
   "id": "00c6ea02-e449-409c-8817-a68699696526",
   "metadata": {},
   "outputs": [
    {
     "name": "stdout",
     "output_type": "stream",
     "text": [
      "The following data set intraday/AAPL_US_data.csv is 81.26\n"
     ]
    }
   ],
   "source": [
    "calculate_completeness(\"intraday/AAPL_US_data.csv\")"
   ]
  },
  {
   "cell_type": "code",
   "execution_count": 5,
   "id": "2a241636-a104-4113-b39c-61a7a627d1a5",
   "metadata": {},
   "outputs": [
    {
     "name": "stdout",
     "output_type": "stream",
     "text": [
      "The following data set intraday/ABNB_US_data.csv is 36.32\n"
     ]
    }
   ],
   "source": [
    "calculate_completeness(\"intraday/ABNB_US_data.csv\")"
   ]
  },
  {
   "cell_type": "code",
   "execution_count": 6,
   "id": "caf6fe29-9df7-41f3-8389-93e6c1b1a031",
   "metadata": {},
   "outputs": [
    {
     "name": "stdout",
     "output_type": "stream",
     "text": [
      "The following data set intraday/ACB_US_data.csv is 56.41\n"
     ]
    }
   ],
   "source": [
    "calculate_completeness(\"intraday/ACB_US_data.csv\")"
   ]
  },
  {
   "cell_type": "code",
   "execution_count": 7,
   "id": "82b2c65f-478f-4584-8c10-00a284d18a7c",
   "metadata": {},
   "outputs": [
    {
     "name": "stdout",
     "output_type": "stream",
     "text": [
      "The following data set intraday/AMC_US_data.csv is 72.17\n"
     ]
    }
   ],
   "source": [
    "calculate_completeness(\"intraday/AMC_US_data.csv\")"
   ]
  },
  {
   "cell_type": "code",
   "execution_count": 8,
   "id": "c515fda5-97e9-4b69-a8fe-b6dcb88ee302",
   "metadata": {},
   "outputs": [
    {
     "name": "stdout",
     "output_type": "stream",
     "text": [
      "The following data set intraday/AMZN_US_data.csv is 58.29\n"
     ]
    }
   ],
   "source": [
    "calculate_completeness(\"intraday/AMZN_US_data.csv\")"
   ]
  },
  {
   "cell_type": "code",
   "execution_count": 9,
   "id": "666d23a3-9813-498d-a65e-374c3ddca208",
   "metadata": {},
   "outputs": [
    {
     "name": "stdout",
     "output_type": "stream",
     "text": [
      "The following data set intraday/APHA_US_data.csv is 24.88\n"
     ]
    }
   ],
   "source": [
    "calculate_completeness(\"intraday/APHA_US_data.csv\")"
   ]
  },
  {
   "cell_type": "code",
   "execution_count": 10,
   "id": "35d799c5-d083-476b-9222-ff0785d5edf6",
   "metadata": {},
   "outputs": [
    {
     "name": "stdout",
     "output_type": "stream",
     "text": [
      "The following data set intraday/ARKK_US_data.csv is 55.37\n"
     ]
    }
   ],
   "source": [
    "calculate_completeness(\"intraday/ARKK_US_data.csv\")"
   ]
  },
  {
   "cell_type": "code",
   "execution_count": 11,
   "id": "9851b3af-073b-43cf-b4a8-84a1488dea8f",
   "metadata": {},
   "outputs": [
    {
     "name": "stdout",
     "output_type": "stream",
     "text": [
      "The following data set intraday/BABA_US_data.csv is 71.12\n"
     ]
    }
   ],
   "source": [
    "calculate_completeness(\"intraday/BABA_US_data.csv\")"
   ]
  },
  {
   "cell_type": "code",
   "execution_count": 12,
   "id": "a1fd78e7-9ae0-44c6-aced-cb35abb367d2",
   "metadata": {},
   "outputs": [
    {
     "name": "stdout",
     "output_type": "stream",
     "text": [
      "The following data set intraday/BB_US_data.csv is 53.07\n"
     ]
    }
   ],
   "source": [
    "calculate_completeness(\"intraday/BB_US_data.csv\")"
   ]
  },
  {
   "cell_type": "code",
   "execution_count": 13,
   "id": "93a0bd3c-ca68-4599-be3e-e9d0d5973bef",
   "metadata": {},
   "outputs": [
    {
     "name": "stdout",
     "output_type": "stream",
     "text": [
      "The following data set intraday/BILI_US_data.csv is 57.0\n"
     ]
    }
   ],
   "source": [
    "calculate_completeness(\"intraday/BILI_US_data.csv\")"
   ]
  },
  {
   "cell_type": "code",
   "execution_count": 14,
   "id": "d35945af-f635-40b1-92ab-fa6d495572b7",
   "metadata": {},
   "outputs": [
    {
     "name": "stdout",
     "output_type": "stream",
     "text": [
      "The following data set intraday/BITO_US_data.csv is 23.02\n"
     ]
    }
   ],
   "source": [
    "calculate_completeness(\"intraday/BITO_US_data.csv\")"
   ]
  },
  {
   "cell_type": "code",
   "execution_count": 15,
   "id": "e34677bd-5d30-4ce8-95c8-4e67feb89da3",
   "metadata": {},
   "outputs": [
    {
     "name": "stdout",
     "output_type": "stream",
     "text": [
      "The following data set intraday/BNTX_US_data.csv is 49.01\n"
     ]
    }
   ],
   "source": [
    "calculate_completeness(\"intraday/BNTX_US_data.csv\")"
   ]
  },
  {
   "cell_type": "code",
   "execution_count": 16,
   "id": "2cf03c7f-1cf4-4c4d-922c-0f1a86aeb236",
   "metadata": {},
   "outputs": [
    {
     "name": "stdout",
     "output_type": "stream",
     "text": [
      "The following data set intraday/BYND_US_data.csv is 51.67\n"
     ]
    }
   ],
   "source": [
    "calculate_completeness(\"intraday/BYND_US_data.csv\")"
   ]
  },
  {
   "cell_type": "code",
   "execution_count": 17,
   "id": "9fbf9dc7-55c0-4a70-83bb-2c38eaa49fa0",
   "metadata": {},
   "outputs": [
    {
     "name": "stdout",
     "output_type": "stream",
     "text": [
      "The following data set intraday/CGC_US_data.csv is 53.29\n"
     ]
    }
   ],
   "source": [
    "calculate_completeness(\"intraday/CGC_US_data.csv\")"
   ]
  },
  {
   "cell_type": "code",
   "execution_count": 18,
   "id": "9c0c9d4c-30ca-42fb-8d64-b9ce707e6bfd",
   "metadata": {},
   "outputs": [
    {
     "name": "stdout",
     "output_type": "stream",
     "text": [
      "The following data set intraday/COIN_US_data.csv is 34.99\n"
     ]
    }
   ],
   "source": [
    "calculate_completeness(\"intraday/COIN_US_data.csv\")"
   ]
  },
  {
   "cell_type": "code",
   "execution_count": 19,
   "id": "67c13267-50e6-40e8-a852-5c04cdfbb337",
   "metadata": {},
   "outputs": [
    {
     "name": "stdout",
     "output_type": "stream",
     "text": [
      "The following data set intraday/CRON_US_data.csv is 47.37\n"
     ]
    }
   ],
   "source": [
    "calculate_completeness(\"intraday/CRON_US_data.csv\")"
   ]
  },
  {
   "cell_type": "code",
   "execution_count": 20,
   "id": "7f58bb59-97c4-44e5-9921-94f502ebcd4d",
   "metadata": {},
   "outputs": [
    {
     "name": "stdout",
     "output_type": "stream",
     "text": [
      "The following data set intraday/DKNG_US_data.csv is 55.12\n"
     ]
    }
   ],
   "source": [
    "calculate_completeness(\"intraday/DKNG_US_data.csv\")"
   ]
  },
  {
   "cell_type": "code",
   "execution_count": 21,
   "id": "667696a2-8336-42ec-a7d5-faab27492779",
   "metadata": {},
   "outputs": [
    {
     "name": "stdout",
     "output_type": "stream",
     "text": [
      "The following data set intraday/GDX_US_data.csv is 58.6\n"
     ]
    }
   ],
   "source": [
    "calculate_completeness(\"intraday/GDX_US_data.csv\")"
   ]
  },
  {
   "cell_type": "code",
   "execution_count": 22,
   "id": "7555ab36-a58d-47f6-a37e-1b5efa49477a",
   "metadata": {},
   "outputs": [
    {
     "name": "stdout",
     "output_type": "stream",
     "text": [
      "The following data set intraday/GDXJ_US_data.csv is 52.46\n"
     ]
    }
   ],
   "source": [
    "calculate_completeness(\"intraday/GDXJ_US_data.csv\")"
   ]
  },
  {
   "cell_type": "code",
   "execution_count": 23,
   "id": "96e20088-ecc7-45b6-8f88-44b06de5efa9",
   "metadata": {},
   "outputs": [
    {
     "name": "stdout",
     "output_type": "stream",
     "text": [
      "The following data set intraday/GLD_US_data.csv is 59.86\n"
     ]
    }
   ],
   "source": [
    "calculate_completeness(\"intraday/GLD_US_data.csv\")"
   ]
  },
  {
   "cell_type": "code",
   "execution_count": 24,
   "id": "c9a13674-8249-40ae-9663-4b0dcc9c0aec",
   "metadata": {},
   "outputs": [
    {
     "name": "stdout",
     "output_type": "stream",
     "text": [
      "The following data set intraday/GME_US_data.csv is 54.32\n"
     ]
    }
   ],
   "source": [
    "calculate_completeness(\"intraday/GME_US_data.csv\")"
   ]
  },
  {
   "cell_type": "code",
   "execution_count": 25,
   "id": "379bef8f-080d-44ce-b375-38224b67882c",
   "metadata": {},
   "outputs": [
    {
     "name": "stdout",
     "output_type": "stream",
     "text": [
      "The following data set intraday/GOOGL_US_data.csv is 49.08\n"
     ]
    }
   ],
   "source": [
    "calculate_completeness(\"intraday/GOOGL_US_data.csv\")"
   ]
  },
  {
   "cell_type": "code",
   "execution_count": 26,
   "id": "6f8a1fed-398f-4d17-b0dc-89fa79cc2b21",
   "metadata": {},
   "outputs": [
    {
     "name": "stdout",
     "output_type": "stream",
     "text": [
      "The following data set intraday/HOOD_US_data.csv is 28.78\n"
     ]
    }
   ],
   "source": [
    "calculate_completeness(\"intraday/HOOD_US_data.csv\")"
   ]
  },
  {
   "cell_type": "code",
   "execution_count": 27,
   "id": "42c780ae-d97f-4f6e-ae3c-22b2d94b40c8",
   "metadata": {},
   "outputs": [
    {
     "name": "stdout",
     "output_type": "stream",
     "text": [
      "The following data set intraday/MRNA_US_data.csv is 59.13\n"
     ]
    }
   ],
   "source": [
    "calculate_completeness(\"intraday/MRNA_US_data.csv\")"
   ]
  },
  {
   "cell_type": "code",
   "execution_count": 28,
   "id": "2672d77d-9068-4833-a423-836c73d92cd6",
   "metadata": {},
   "outputs": [
    {
     "name": "stdout",
     "output_type": "stream",
     "text": [
      "The following data set intraday/MSFT_US_data.csv is 67.1\n"
     ]
    }
   ],
   "source": [
    "calculate_completeness(\"intraday/MSFT_US_data.csv\")"
   ]
  },
  {
   "cell_type": "code",
   "execution_count": 29,
   "id": "b12085ac-e188-4976-b93c-ff892829c9aa",
   "metadata": {},
   "outputs": [
    {
     "name": "stdout",
     "output_type": "stream",
     "text": [
      "The following data set intraday/MSTR_US_data.csv is 31.79\n"
     ]
    }
   ],
   "source": [
    "calculate_completeness(\"intraday/MSTR_US_data.csv\")"
   ]
  },
  {
   "cell_type": "code",
   "execution_count": 30,
   "id": "bde858b9-e417-44a7-9842-fadaf78c4290",
   "metadata": {},
   "outputs": [
    {
     "name": "stdout",
     "output_type": "stream",
     "text": [
      "The following data set intraday/NFLX_US_data.csv is 53.53\n"
     ]
    }
   ],
   "source": [
    "calculate_completeness(\"intraday/NFLX_US_data.csv\")"
   ]
  },
  {
   "cell_type": "code",
   "execution_count": 31,
   "id": "09bd7f19-93b5-45f8-9d8f-04f3f4f9d758",
   "metadata": {},
   "outputs": [
    {
     "name": "stdout",
     "output_type": "stream",
     "text": [
      "The following data set intraday/NIO_US_data.csv is 82.78\n"
     ]
    }
   ],
   "source": [
    "calculate_completeness(\"intraday/NIO_US_data.csv\")"
   ]
  },
  {
   "cell_type": "code",
   "execution_count": 32,
   "id": "a58019e9-3f98-4d15-8240-f6aabd3d3e17",
   "metadata": {},
   "outputs": [
    {
     "name": "stdout",
     "output_type": "stream",
     "text": [
      "The following data set intraday/NOK_US_data.csv is 61.03\n"
     ]
    }
   ],
   "source": [
    "calculate_completeness(\"intraday/NOK_US_data.csv\")"
   ]
  },
  {
   "cell_type": "code",
   "execution_count": 33,
   "id": "25d2bd74-a184-4e8a-963e-cff792da4fc1",
   "metadata": {},
   "outputs": [
    {
     "name": "stdout",
     "output_type": "stream",
     "text": [
      "The following data set intraday/NVDA_US_data.csv is 67.85\n"
     ]
    }
   ],
   "source": [
    "calculate_completeness(\"intraday/NVDA_US_data.csv\")"
   ]
  },
  {
   "cell_type": "code",
   "execution_count": 34,
   "id": "8c976eeb-7276-407e-8ee2-3ed680bbd331",
   "metadata": {},
   "outputs": [
    {
     "name": "stdout",
     "output_type": "stream",
     "text": [
      "The following data set intraday/PENN_US_data.csv is 50.37\n"
     ]
    }
   ],
   "source": [
    "calculate_completeness(\"intraday/PENN_US_data.csv\")"
   ]
  },
  {
   "cell_type": "code",
   "execution_count": 35,
   "id": "4c92569c-e15f-4100-aaeb-03a11a3b0026",
   "metadata": {},
   "outputs": [
    {
     "name": "stdout",
     "output_type": "stream",
     "text": [
      "The following data set intraday/PFE_US_data.csv is 59.54\n"
     ]
    }
   ],
   "source": [
    "calculate_completeness(\"intraday/PFE_US_data.csv\")"
   ]
  },
  {
   "cell_type": "code",
   "execution_count": 36,
   "id": "85f3d11b-0a41-4b32-a4f3-ef8bd22bc00b",
   "metadata": {},
   "outputs": [
    {
     "name": "stdout",
     "output_type": "stream",
     "text": [
      "The following data set intraday/PYPL_US_data.csv is 55.29\n"
     ]
    }
   ],
   "source": [
    "calculate_completeness(\"intraday/PYPL_US_data.csv\")"
   ]
  },
  {
   "cell_type": "code",
   "execution_count": 37,
   "id": "9dad557d-8f17-4f99-99ce-8d82a4e2358d",
   "metadata": {},
   "outputs": [
    {
     "name": "stdout",
     "output_type": "stream",
     "text": [
      "The following data set intraday/SLV_US_data.csv is 62.19\n"
     ]
    }
   ],
   "source": [
    "calculate_completeness(\"intraday/SLV_US_data.csv\")"
   ]
  },
  {
   "cell_type": "code",
   "execution_count": 38,
   "id": "36644d6d-4420-429b-93c0-725c70460258",
   "metadata": {},
   "outputs": [
    {
     "name": "stdout",
     "output_type": "stream",
     "text": [
      "The following data set intraday/SPY_US_data.csv is 84.86\n"
     ]
    }
   ],
   "source": [
    "calculate_completeness(\"intraday/SPY_US_data.csv\")"
   ]
  },
  {
   "cell_type": "code",
   "execution_count": 39,
   "id": "7f08383b-2bd5-48cc-a78b-245af9888ae4",
   "metadata": {},
   "outputs": [
    {
     "name": "stdout",
     "output_type": "stream",
     "text": [
      "The following data set intraday/SQ_US_data.csv is 58.62\n"
     ]
    }
   ],
   "source": [
    "calculate_completeness(\"intraday/SQ_US_data.csv\")"
   ]
  },
  {
   "cell_type": "code",
   "execution_count": 40,
   "id": "f289aff8-cd2c-46f3-8393-c5377807cb83",
   "metadata": {},
   "outputs": [
    {
     "name": "stdout",
     "output_type": "stream",
     "text": [
      "The following data set intraday/TLRY_US_data.csv is 64.18\n"
     ]
    }
   ],
   "source": [
    "calculate_completeness(\"intraday/TLRY_US_data.csv\")"
   ]
  },
  {
   "cell_type": "code",
   "execution_count": 41,
   "id": "c3e398bc-315c-43b1-99aa-f30d4210e461",
   "metadata": {},
   "outputs": [
    {
     "name": "stdout",
     "output_type": "stream",
     "text": [
      "The following data set intraday/TSLA_US_data.csv is 76.94\n"
     ]
    }
   ],
   "source": [
    "calculate_completeness(\"intraday/TSLA_US_data.csv\")"
   ]
  },
  {
   "cell_type": "code",
   "execution_count": 42,
   "id": "9a6cece2-bc55-496c-b267-2258f18f6247",
   "metadata": {},
   "outputs": [
    {
     "name": "stdout",
     "output_type": "stream",
     "text": [
      "The following data set intraday/TWTR_US_data.csv is 55.68\n"
     ]
    }
   ],
   "source": [
    "calculate_completeness(\"intraday/TWTR_US_data.csv\")"
   ]
  },
  {
   "cell_type": "code",
   "execution_count": 43,
   "id": "6f30f31a-f192-441f-a1a2-31a104aa3d1a",
   "metadata": {},
   "outputs": [
    {
     "name": "stdout",
     "output_type": "stream",
     "text": [
      "The following data set intraday/UBER_US_data.csv is 58.77\n"
     ]
    }
   ],
   "source": [
    "calculate_completeness(\"intraday/UBER_US_data.csv\")"
   ]
  },
  {
   "cell_type": "code",
   "execution_count": 44,
   "id": "8bf87eae-45d1-49e1-a409-672411a8db86",
   "metadata": {},
   "outputs": [
    {
     "name": "stdout",
     "output_type": "stream",
     "text": [
      "The following data set intraday/USO_US_data.csv is 57.86\n"
     ]
    }
   ],
   "source": [
    "calculate_completeness(\"intraday/USO_US_data.csv\")"
   ]
  },
  {
   "cell_type": "code",
   "execution_count": 45,
   "id": "a99360c6-d09a-4b5e-af25-00251d67d4a7",
   "metadata": {},
   "outputs": [
    {
     "name": "stdout",
     "output_type": "stream",
     "text": [
      "The following data set intraday/ZM_US_data.csv is 53.02\n"
     ]
    }
   ],
   "source": [
    "calculate_completeness(\"intraday/ZM_US_data.csv\")"
   ]
  },
  {
   "cell_type": "code",
   "execution_count": null,
   "id": "fbdaa571-d001-418a-9920-33e38abf5756",
   "metadata": {},
   "outputs": [],
   "source": []
  }
 ],
 "metadata": {
  "kernelspec": {
   "display_name": "Python 3 (ipykernel)",
   "language": "python",
   "name": "python3"
  },
  "language_info": {
   "codemirror_mode": {
    "name": "ipython",
    "version": 3
   },
   "file_extension": ".py",
   "mimetype": "text/x-python",
   "name": "python",
   "nbconvert_exporter": "python",
   "pygments_lexer": "ipython3",
   "version": "3.9.12"
  }
 },
 "nbformat": 4,
 "nbformat_minor": 5
}
